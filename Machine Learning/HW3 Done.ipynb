{
  "nbformat": 4,
  "nbformat_minor": 0,
  "metadata": {
    "kernelspec": {
      "display_name": "Python 3",
      "language": "python",
      "name": "python3"
    },
    "language_info": {
      "codemirror_mode": {
        "name": "ipython",
        "version": 3
      },
      "file_extension": ".py",
      "mimetype": "text/x-python",
      "name": "python",
      "nbconvert_exporter": "python",
      "pygments_lexer": "ipython3",
      "version": "3.6.9"
    },
    "colab": {
      "name": "HW3.ipynb",
      "provenance": [],
      "toc_visible": true
    }
  },
  "cells": [
    {
      "cell_type": "markdown",
      "metadata": {
        "id": "7PbmFbG4wmyt"
      },
      "source": [
        "# COMP4220: Machine Learning, Spring 2021, Assignment 3\n",
        "Due: Wednsday, March 10, 11pm\n",
        "\n",
        "Please submit one pdf file for all questions.\n",
        "\n",
        "You can type your answer for the first two questions in the below cell of each question using \"Markdown\" option!\n",
        "\n",
        "\n",
        "****When turning in assignments after the due date, please clearly specify the number of late hours used."
      ]
    },
    {
      "cell_type": "markdown",
      "metadata": {
        "id": "kzMLY0Rpwmyy"
      },
      "source": [
        "# 1. Suppose you are using Polynomial Regression. You plot the learning curves and you notice that there is a large gap between the training error and the validation error. What is happening? What are three ways to solve this?"
      ]
    },
    {
      "cell_type": "markdown",
      "metadata": {
        "id": "55WbphZawmyy"
      },
      "source": [
        "We are probably overfitting the training set. We can fix this by simplifying our model, regularizing the data, or increasing the size of the training set. \n",
        "\n",
        "\n",
        "\n"
      ]
    },
    {
      "cell_type": "markdown",
      "metadata": {
        "id": "s60akKgYwmyy"
      },
      "source": [
        "# 2. How does the Stochastic Gradient Descent algorithm work?"
      ]
    },
    {
      "cell_type": "markdown",
      "metadata": {
        "id": "C2zB2wcOwmyz"
      },
      "source": [
        "Stochastic Gradient Descent works by selecting a random instance to calculate the gradient, decreasing the gradient on average. The randomness works well to escape local minima, but also prevents the algorithm from settling on the minima. \n",
        "\n",
        "\n",
        "\n",
        "\n"
      ]
    },
    {
      "cell_type": "markdown",
      "metadata": {
        "id": "7NFeURBBwmyz"
      },
      "source": [
        "# 3. Programming assignment (Linear Regression)"
      ]
    },
    {
      "cell_type": "code",
      "metadata": {
        "id": "4yiupAB9wmyz"
      },
      "source": [
        "import matplotlib.pyplot as plt\n",
        "import numpy as np\n",
        "from sklearn import datasets, linear_model"
      ],
      "execution_count": null,
      "outputs": []
    },
    {
      "cell_type": "markdown",
      "metadata": {
        "id": "F-LcnH74wmy0"
      },
      "source": [
        "# Create a two-dimensional plot of linear regression using one feature of the diabetes dataset"
      ]
    },
    {
      "cell_type": "code",
      "metadata": {
        "id": "NqKVoGXIwmy0",
        "colab": {
          "base_uri": "https://localhost:8080/",
          "height": 282
        },
        "outputId": "d1f18aea-32f4-495d-a818-d88317d1507d"
      },
      "source": [
        "# Load the diabetes dataset\n",
        "diabetes_X, diabetes_y = datasets.load_diabetes(return_X_y=True)\n",
        "\n",
        "plt.plot(diabetes_X[:, np.newaxis, 2], diabetes_y, 'o')"
      ],
      "execution_count": null,
      "outputs": [
        {
          "output_type": "execute_result",
          "data": {
            "text/plain": [
              "[<matplotlib.lines.Line2D at 0x7ff2d2b3bc10>]"
            ]
          },
          "metadata": {
            "tags": []
          },
          "execution_count": 59
        },
        {
          "output_type": "display_data",
          "data": {
            "image/png": "[encoded data removed]",
            "text/plain": [
              "<Figure size 432x288 with 1 Axes>"
            ]
          },
          "metadata": {
            "tags": [],
            "needs_background": "light"
          }
        }
      ]
    },
    {
      "cell_type": "markdown",
      "metadata": {
        "id": "uPj_msrZwmy0"
      },
      "source": [
        "# P3.1: Find the number of data instances(# of rows) and features(# of columns) in this data set\n",
        "# (Show the result using print function)"
      ]
    },
    {
      "cell_type": "code",
      "metadata": {
        "id": "jeysg4ZMwmy0",
        "colab": {
          "base_uri": "https://localhost:8080/"
        },
        "outputId": "5c7169e5-1473-4daa-a280-9bb080cdd4dc"
      },
      "source": [
        "print('The (rows, columns) are {}'.format(diabetes_X[:, np.newaxis, 0].shape))"
      ],
      "execution_count": null,
      "outputs": [
        {
          "output_type": "stream",
          "text": [
            "The (rows, columns) are (442, 1)\n"
          ],
          "name": "stdout"
        }
      ]
    },
    {
      "cell_type": "markdown",
      "metadata": {
        "id": "z66kqPCGwmy1"
      },
      "source": [
        "# Using just one feature and splitting dataset into training/testing sets"
      ]
    },
    {
      "cell_type": "code",
      "metadata": {
        "id": "9LPNAdZvwmy1",
        "colab": {
          "base_uri": "https://localhost:8080/"
        },
        "outputId": "40071804-5a75-4b2c-a221-e6f81b4fa6fb"
      },
      "source": [
        "# Use only one feature\n",
        "diabetes_X = diabetes_X[:, np.newaxis, 2]\n",
        "diabetes_X.shape"
      ],
      "execution_count": null,
      "outputs": [
        {
          "output_type": "execute_result",
          "data": {
            "text/plain": [
              "(442, 1)"
            ]
          },
          "metadata": {
            "tags": []
          },
          "execution_count": 61
        }
      ]
    },
    {
      "cell_type": "code",
      "metadata": {
        "id": "W9YSq4bBwmy1"
      },
      "source": [
        "# Split the data into training/testing sets\n",
        "diabetes_X_train = diabetes_X[:-20]\n",
        "diabetes_X_test = diabetes_X[-20:]"
      ],
      "execution_count": null,
      "outputs": []
    },
    {
      "cell_type": "code",
      "metadata": {
        "id": "7oBtEKLMwmy1"
      },
      "source": [
        "# Split the targets into training/testing sets\n",
        "diabetes_y_train = diabetes_y[:-20]\n",
        "diabetes_y_test = diabetes_y[-20:]"
      ],
      "execution_count": null,
      "outputs": []
    },
    {
      "cell_type": "markdown",
      "metadata": {
        "id": "XvWgnZhuwmy1"
      },
      "source": [
        "# P3.2: Create linear regression object\n"
      ]
    },
    {
      "cell_type": "code",
      "metadata": {
        "id": "T4fAauPawmy2"
      },
      "source": [
        "regr = linear_model.LinearRegression()"
      ],
      "execution_count": null,
      "outputs": []
    },
    {
      "cell_type": "markdown",
      "metadata": {
        "id": "qEFwKGeIwmy2"
      },
      "source": [
        "# P3.3: Train the model using the training sets\n"
      ]
    },
    {
      "cell_type": "code",
      "metadata": {
        "id": "h6fWuui5wmy2",
        "colab": {
          "base_uri": "https://localhost:8080/"
        },
        "outputId": "41c082db-0980-4ab0-ea44-88483f9ebec0"
      },
      "source": [
        "regr.fit(diabetes_X_train, diabetes_y_train)"
      ],
      "execution_count": null,
      "outputs": [
        {
          "output_type": "execute_result",
          "data": {
            "text/plain": [
              "LinearRegression(copy_X=True, fit_intercept=True, n_jobs=None, normalize=False)"
            ]
          },
          "metadata": {
            "tags": []
          },
          "execution_count": 66
        }
      ]
    },
    {
      "cell_type": "markdown",
      "metadata": {
        "id": "p3niKS7vwmy2"
      },
      "source": [
        "# P3.4: Make predictions using the testing set\n"
      ]
    },
    {
      "cell_type": "code",
      "metadata": {
        "id": "lYZBn7PXwmy2",
        "colab": {
          "base_uri": "https://localhost:8080/"
        },
        "outputId": "9b7e7cda-27b0-4d3d-a400-55a1e023d207"
      },
      "source": [
        "diabetes_y_pred = regr.predict(diabetes_X_test)\n",
        "print(diabetes_y_pred)"
      ],
      "execution_count": null,
      "outputs": [
        {
          "output_type": "stream",
          "text": [
            "[225.9732401  115.74763374 163.27610621 114.73638965 120.80385422\n",
            " 158.21988574 236.08568105 121.81509832  99.56772822 123.83758651\n",
            " 204.73711411  96.53399594 154.17490936 130.91629517  83.3878227\n",
            " 171.36605897 137.99500384 137.99500384 189.56845268  84.3990668 ]\n"
          ],
          "name": "stdout"
        }
      ]
    },
    {
      "cell_type": "markdown",
      "metadata": {
        "id": "C8j5c6J8wmy2"
      },
      "source": [
        "# P3.5: Find the coefficients and intercept (Showing the result using print function)\n"
      ]
    },
    {
      "cell_type": "code",
      "metadata": {
        "id": "VVmb-EYswmy3",
        "colab": {
          "base_uri": "https://localhost:8080/"
        },
        "outputId": "5e444792-2196-4eef-f078-152b00538055"
      },
      "source": [
        "coefficients = regr.coef_\n",
        "intercept = regr.intercept_\n",
        "print('The coefficient is {} and the interception is {}'.format(coefficients[0],intercept))"
      ],
      "execution_count": null,
      "outputs": [
        {
          "output_type": "stream",
          "text": [
            "The coefficient is 938.2378612512637 and the interception is 152.91886182616167\n"
          ],
          "name": "stdout"
        }
      ]
    },
    {
      "cell_type": "markdown",
      "metadata": {
        "id": "u6wWoU_Qwmy3"
      },
      "source": [
        "# P3.6: Plot the test data points using plt.scatter and draw \"Line of Best Fit\" using plt.plot()\n",
        "# Make sure that you label both axes with appropriate names"
      ]
    },
    {
      "cell_type": "code",
      "metadata": {
        "id": "SUcf2NqMwmy3",
        "colab": {
          "base_uri": "https://localhost:8080/",
          "height": 297
        },
        "outputId": "0c530342-e1b1-4ba0-f0b4-2daacf8cd3e7"
      },
      "source": [
        "plt.scatter(diabetes_X_test, diabetes_y_test, color = 'cyan' )\n",
        "plt.plot(diabetes_X_test, diabetes_y_pred, color='black')\n",
        "\n",
        "plt.xlabel('diabetes_X_test')\n",
        "plt.ylabel('diabetes_y')\n",
        "\n",
        "\n"
      ],
      "execution_count": null,
      "outputs": [
        {
          "output_type": "execute_result",
          "data": {
            "text/plain": [
              "Text(0, 0.5, 'diabetes_y')"
            ]
          },
          "metadata": {
            "tags": []
          },
          "execution_count": 69
        },
        {
          "output_type": "display_data",
          "data": {
            "image/png": "[encoded data removed]",
            "text/plain": [
              "<Figure size 432x288 with 1 Axes>"
            ]
          },
          "metadata": {
            "tags": [],
            "needs_background": "light"
          }
        }
      ]
    },
    {
      "cell_type": "markdown",
      "metadata": {
        "id": "dkU0MQZhwmy3"
      },
      "source": [
        "# P3.7: We like to measure the generalization error for the trained model. You can find a wide range of evaluation\n",
        "# metrics at https://scikit-learn.org/stable/modules/model_evaluation.html\n",
        "# Pick only one suitable evaluation metric from this list and report the generalization error using the test data set"
      ]
    },
    {
      "cell_type": "code",
      "metadata": {
        "id": "pxmmd707wmy3",
        "colab": {
          "base_uri": "https://localhost:8080/"
        },
        "outputId": "4242a150-91c1-43c7-a20c-6d2525a46db2"
      },
      "source": [
        "from sklearn import metrics\n",
        "\n",
        "print('the generalization error is {}'.format(metrics.mean_squared_error(diabetes_y_test, diabetes_y_pred)))\n"
      ],
      "execution_count": null,
      "outputs": [
        {
          "output_type": "stream",
          "text": [
            "the generalization error is 2548.0723987259694\n"
          ],
          "name": "stdout"
        }
      ]
    },
    {
      "cell_type": "markdown",
      "metadata": {
        "id": "VSCLTnnHwmy3"
      },
      "source": [
        "# 4. Programming assignment (Polynomial Regression)"
      ]
    },
    {
      "cell_type": "markdown",
      "metadata": {
        "id": "q2YaIDzMwmy4"
      },
      "source": [
        "Polynomial Regression is appropriate when data are nonlinearly distributed (meaning you can’t ﬁt a straight line between y and x).\n",
        "\n",
        "Polynomial Regression is linear with respect to coeﬃcients since we don’t have any power of the coeﬃcients (all the coeﬃcients are raised to the power of 1). However, Polynomial Regression is a nonlinear function of the input x, since we have the inputs raised to several powers. "
      ]
    },
    {
      "cell_type": "code",
      "metadata": {
        "id": "u0eAtTe9wmy4"
      },
      "source": [
        "# Importing the libraries\n",
        "import numpy as np\n",
        "import matplotlib.pyplot as plt\n",
        "import pandas as pd"
      ],
      "execution_count": null,
      "outputs": []
    },
    {
      "cell_type": "code",
      "metadata": {
        "id": "TclfeeXEwmy4",
        "colab": {
          "base_uri": "https://localhost:8080/"
        },
        "outputId": "0634450b-e0d4-4735-95ab-d62739b01742"
      },
      "source": [
        "# Importing the dataset\n",
        "dataset = pd.read_csv('Position_Salaries.csv') #the dataset is available in the folder of HW3 on Blackboard\n",
        "X = dataset.iloc[:, 1:-1].values\n",
        "y = dataset.iloc[:, -1].values\n",
        "X\n"
      ],
      "execution_count": null,
      "outputs": [
        {
          "output_type": "execute_result",
          "data": {
            "text/plain": [
              "array([[ 1],\n",
              "       [ 2],\n",
              "       [ 3],\n",
              "       [ 4],\n",
              "       [ 5],\n",
              "       [ 6],\n",
              "       [ 7],\n",
              "       [ 8],\n",
              "       [ 9],\n",
              "       [10]])"
            ]
          },
          "metadata": {
            "tags": []
          },
          "execution_count": 5
        }
      ]
    },
    {
      "cell_type": "code",
      "metadata": {
        "id": "wbWu_CNywmy4",
        "colab": {
          "base_uri": "https://localhost:8080/"
        },
        "outputId": "91d9c09a-f672-4392-e369-9f951d3461fe"
      },
      "source": [
        "# Training the Linear Regression model on the whole dataset\n",
        "from sklearn.linear_model import LinearRegression \n",
        "lin_reg = LinearRegression()\n",
        "lin_reg_1 = lin_reg.fit(X, y)\n",
        "y_pred1 = lin_reg_1.predict(X)\n",
        "y_pred1                 \n"
      ],
      "execution_count": null,
      "outputs": [
        {
          "output_type": "execute_result",
          "data": {
            "text/plain": [
              "array([-114454.54545455,  -33575.75757576,   47303.03030303,\n",
              "        128181.81818182,  209060.60606061,  289939.39393939,\n",
              "        370818.18181818,  451696.96969697,  532575.75757576,\n",
              "        613454.54545455])"
            ]
          },
          "metadata": {
            "tags": []
          },
          "execution_count": 73
        }
      ]
    },
    {
      "cell_type": "markdown",
      "metadata": {
        "id": "yUiTdpn1wmy5"
      },
      "source": [
        "# P4.1: Training the Polynomial Regression model on the whole dataset (degree=3)\n"
      ]
    },
    {
      "cell_type": "code",
      "metadata": {
        "id": "cs8r35gcwmy5",
        "colab": {
          "base_uri": "https://localhost:8080/"
        },
        "outputId": "35d9cb31-edf9-422a-97e4-592d424abf3b"
      },
      "source": [
        "\n",
        "from sklearn.preprocessing import PolynomialFeatures\n",
        "# Use \"PolynomialFeatures\" to generate polynomial features \n",
        "poly_reg3 = PolynomialFeatures(3)\n",
        "X_poly3 = poly_reg3.fit_transform(X)\n",
        "\n",
        "# Solve the linear regression model using the polynomial features \n",
        "poly_reg_1 = LinearRegression()\n",
        "poly_reg_1.fit(X_poly3, y)\n",
        "\n",
        "\n"
      ],
      "execution_count": null,
      "outputs": [
        {
          "output_type": "execute_result",
          "data": {
            "text/plain": [
              "LinearRegression(copy_X=True, fit_intercept=True, n_jobs=None, normalize=False)"
            ]
          },
          "metadata": {
            "tags": []
          },
          "execution_count": 74
        }
      ]
    },
    {
      "cell_type": "markdown",
      "metadata": {
        "id": "EZMsNcFvwmy5"
      },
      "source": [
        "# P4.2: Training the Polynomial Regression model on the whole dataset (degree=4) as above and call the model lin_reg_4\n"
      ]
    },
    {
      "cell_type": "code",
      "metadata": {
        "id": "7ajkFlDswmy6",
        "colab": {
          "base_uri": "https://localhost:8080/"
        },
        "outputId": "eca483d4-e18f-4f5a-affe-0d1962b8d838"
      },
      "source": [
        "# Use \"PolynomialFeatures\" to generate polynomial features\n",
        "poly_reg4 = PolynomialFeatures(4)\n",
        "X_poly4 = poly_reg4.fit_transform(X)\n",
        "\n",
        "# Solve the linear regression model using the polynomial features\n",
        "poly_reg_2 = LinearRegression()\n",
        "poly_reg_2.fit(X_poly4, y)\n",
        "\n",
        "                    "
      ],
      "execution_count": null,
      "outputs": [
        {
          "output_type": "execute_result",
          "data": {
            "text/plain": [
              "LinearRegression(copy_X=True, fit_intercept=True, n_jobs=None, normalize=False)"
            ]
          },
          "metadata": {
            "tags": []
          },
          "execution_count": 75
        }
      ]
    },
    {
      "cell_type": "markdown",
      "metadata": {
        "id": "-Bb2j79wwmy6"
      },
      "source": [
        "# P4.3: Visualising the Linear Regression results\n",
        "# Name both axes and don't forget to use \"title\" as we have several plots \n",
        "\n"
      ]
    },
    {
      "cell_type": "code",
      "metadata": {
        "id": "9U30d8B-wmy6",
        "colab": {
          "base_uri": "https://localhost:8080/",
          "height": 312
        },
        "outputId": "29050190-61d0-4334-dbb7-3245d9172bd1"
      },
      "source": [
        "from imp import reload\n",
        "#need reload to be able to do another plt.xlabel, plt.ylabel etc\n",
        "reload(plt)\n",
        "plt.scatter(X,y, color=\"black\")\n",
        "plt.plot(X, lin_reg.predict(X), color=\"green\")\n",
        "plt.xlabel('Level')\n",
        "plt.ylabel('Salary(in millions)')\n",
        "plt.title('Linear Regression')"
      ],
      "execution_count": null,
      "outputs": [
        {
          "output_type": "execute_result",
          "data": {
            "text/plain": [
              "Text(0.5, 1.0, 'Linear Regression')"
            ]
          },
          "metadata": {
            "tags": []
          },
          "execution_count": 76
        },
        {
          "output_type": "display_data",
          "data": {
            "image/png": "[encoded data removed]",
            "text/plain": [
              "<Figure size 432x288 with 1 Axes>"
            ]
          },
          "metadata": {
            "tags": [],
            "needs_background": "light"
          }
        }
      ]
    },
    {
      "cell_type": "markdown",
      "metadata": {
        "id": "dIJOcP-Zwmy6"
      },
      "source": [
        "# How do we ﬁnd the best degree?\n",
        "\n",
        "\n",
        "The main form of ﬁnding a good ﬁt is to plot the model and see what it looks like visually. You simply test several degrees and you see which one gives you the best ﬁt. The other option is to ﬁnd the lowest root-mean-square error (RMSE) for your model, but in that case be careful not to overﬁt the data.\n"
      ]
    },
    {
      "cell_type": "markdown",
      "metadata": {
        "id": "w6qQLgxfwmy6"
      },
      "source": [
        "# P4.4: Visualising the Polynomial Regression results (degree = 3)\n",
        "# Name both axes and don't forget to use \"title\" as we have several plots"
      ]
    },
    {
      "cell_type": "code",
      "metadata": {
        "id": "qCjxMp7rwmy6",
        "colab": {
          "base_uri": "https://localhost:8080/",
          "height": 312
        },
        "outputId": "f1aed46d-2aea-47f8-948c-60007eb62f0e"
      },
      "source": [
        "reload(plt)\n",
        "plt.scatter(X,y, color=\"black\")\n",
        "plt.plot(X, poly_reg_1.predict(poly_reg3.fit_transform(X)), color=\"blue\")\n",
        "plt.xlabel('Level')\n",
        "plt.ylabel('Salary(in millions)')\n",
        "plt.title('3rd Degree Regression')"
      ],
      "execution_count": null,
      "outputs": [
        {
          "output_type": "execute_result",
          "data": {
            "text/plain": [
              "Text(0.5, 1.0, '3rd Degree Regression')"
            ]
          },
          "metadata": {
            "tags": []
          },
          "execution_count": 77
        },
        {
          "output_type": "display_data",
          "data": {
            "image/png": "[encoded data removed]",
            "text/plain": [
              "<Figure size 432x288 with 1 Axes>"
            ]
          },
          "metadata": {
            "tags": [],
            "needs_background": "light"
          }
        }
      ]
    },
    {
      "cell_type": "markdown",
      "metadata": {
        "id": "WI8rx5C5wmy7"
      },
      "source": [
        "# P4.5: Visualising the Polynomial Regression results (degree = 4)      \n",
        "# Name both axes and don't forget to use \"title\" as we have several plots "
      ]
    },
    {
      "cell_type": "code",
      "metadata": {
        "id": "xFvbk4gLwmy7",
        "colab": {
          "base_uri": "https://localhost:8080/",
          "height": 312
        },
        "outputId": "451f73eb-341a-4bd8-bc6a-93aebb6fbaa9"
      },
      "source": [
        "reload(plt)\n",
        "plt.scatter(X,y, color=\"black\")\n",
        "plt.plot(X, poly_reg_2.predict(poly_reg4.fit_transform(X)), color=\"red\")\n",
        "plt.xlabel('Level')\n",
        "plt.ylabel('Salary(in millions)')\n",
        "plt.title('4th Degree Regression')"
      ],
      "execution_count": null,
      "outputs": [
        {
          "output_type": "execute_result",
          "data": {
            "text/plain": [
              "Text(0.5, 1.0, '4th Degree Regression')"
            ]
          },
          "metadata": {
            "tags": []
          },
          "execution_count": 78
        },
        {
          "output_type": "display_data",
          "data": {
            "image/png": "[encoded data removed]",
            "text/plain": [
              "<Figure size 432x288 with 1 Axes>"
            ]
          },
          "metadata": {
            "tags": [],
            "needs_background": "light"
          }
        }
      ]
    },
    {
      "cell_type": "markdown",
      "metadata": {
        "id": "ulgvS-TXwmy7"
      },
      "source": [
        "# P4.6: Predicting a new result with Linear Regression when the input is x=19\n"
      ]
    },
    {
      "cell_type": "code",
      "metadata": {
        "id": "M3jJ2B6Lwmy7",
        "colab": {
          "base_uri": "https://localhost:8080/"
        },
        "outputId": "7fbea597-ca8d-46eb-a383-5e4a980cc6b5"
      },
      "source": [
        "\n",
        "y_with_19_years= lin_reg.predict([[19]])\n",
        "print(y_with_19_years)"
      ],
      "execution_count": null,
      "outputs": [
        {
          "output_type": "stream",
          "text": [
            "[1341363.63636364]\n"
          ],
          "name": "stdout"
        }
      ]
    },
    {
      "cell_type": "markdown",
      "metadata": {
        "id": "XRppCnNiwmy7"
      },
      "source": [
        "# P4.7: Predicting a new result with Polynomial Regression(degree=3) when the input is x=19\n"
      ]
    },
    {
      "cell_type": "code",
      "metadata": {
        "id": "2_zknpvUwmy7",
        "colab": {
          "base_uri": "https://localhost:8080/"
        },
        "outputId": "83954968-644c-40a2-b4e3-902ed0d41f95"
      },
      "source": [
        "\n",
        "y_with_19_years_3d = poly_reg_1.predict(poly_reg3.fit_transform([[19]]))\n",
        "print(y_with_19_years_3d)"
      ],
      "execution_count": null,
      "outputs": [
        {
          "output_type": "stream",
          "text": [
            "[14044517.48251697]\n"
          ],
          "name": "stdout"
        }
      ]
    },
    {
      "cell_type": "markdown",
      "metadata": {
        "id": "A3yuUqE-wmy7"
      },
      "source": [
        "# P4.8: Predicting a new result with Polynomial Regression(degree=4) when the input is x=19\n"
      ]
    },
    {
      "cell_type": "code",
      "metadata": {
        "id": "bhLmFUOYwmy8",
        "colab": {
          "base_uri": "https://localhost:8080/"
        },
        "outputId": "aaa21c6d-916e-42c2-867c-0470b189d2ae"
      },
      "source": [
        "\n",
        "y_with_19_years_4d = poly_reg_2.predict(poly_reg4.fit_transform([[19]]))\n",
        "print(y_with_19_years_4d)\n",
        " "
      ],
      "execution_count": null,
      "outputs": [
        {
          "output_type": "stream",
          "text": [
            "[40328199.30072428]\n"
          ],
          "name": "stdout"
        }
      ]
    },
    {
      "cell_type": "markdown",
      "metadata": {
        "id": "5Z61Wwwzwmy8"
      },
      "source": [
        "# P4.9: Please explain the impact of selecting an appropriate degree parameter  on generalization error based on the above values."
      ]
    },
    {
      "cell_type": "markdown",
      "metadata": {
        "id": "-KFtCemHwmy8"
      },
      "source": [
        "We have to select an appropriate degree parameter because otherwise, when we move onto our test data, our results can vary widely depending on what degree parameter we used. You can see in the graph above that the linear regression does not properly fit the data that we were provided. As a result, the prediction doesn't follow the seemingly exponential growth in salary as the level increases. As we increase our degree, our generalization error decreases for our training set (as seen below), but if we end up overfitting, we will actually end up increasing our generalization error for our test set. You can see that between the 3rd degree and 4th degree regressions, the prediction for the salary at level 19 is drastically different (~14 million vs 40 million), so one of them is extremely different from the true value. \n",
        "\n",
        "\n"
      ]
    },
    {
      "cell_type": "code",
      "metadata": {
        "colab": {
          "base_uri": "https://localhost:8080/"
        },
        "id": "zzM079Qs3xTj",
        "outputId": "8e598efc-af2c-4709-db4f-3b28d293db32"
      },
      "source": [
        "print('the linear regression mean squared error is {}'.format(metrics.mean_squared_error(y, lin_reg.predict(X))))\n",
        "print('the 3rd degree regression mean squared error is {}'.format(metrics.mean_squared_error(y, poly_reg_1.predict(poly_reg3.fit_transform(X)))))\n",
        "print('the 4th degree regressio nmean squared error is {}'.format(metrics.mean_squared_error(y, poly_reg_2.predict(poly_reg4.fit_transform(X)))))\n"
      ],
      "execution_count": null,
      "outputs": [
        {
          "output_type": "stream",
          "text": [
            "the linear regression mean squared error is 26695878787.878784\n",
            "the 3rd degree regression mean squared error is 1515662004.6620038\n",
            "the 4th degree regressio nmean squared error is 210343822.84381816\n"
          ],
          "name": "stdout"
        }
      ]
    },
    {
      "cell_type": "code",
      "metadata": {
        "colab": {
          "base_uri": "https://localhost:8080/"
        },
        "id": "UsJx7A-xANMX",
        "outputId": "5a4c8d36-d95f-4a22-c77f-686e32978e6d"
      },
      "source": [
        "%%shell\n",
        "jupyter nbconvert --to html /content/HW32.ipynb"
      ],
      "execution_count": null,
      "outputs": [
        {
          "output_type": "stream",
          "text": [
            "[NbConvertApp] Converting notebook /content/HW32.ipynb to html\n",
            "[NbConvertApp] Writing 397423 bytes to /content/HW32.html\n"
          ],
          "name": "stdout"
        },
        {
          "output_type": "execute_result",
          "data": {
            "text/plain": [
              ""
            ]
          },
          "metadata": {
            "tags": []
          },
          "execution_count": 91
        }
      ]
    }
  ]
}