{
  "nbformat": 4,
  "nbformat_minor": 0,
  "metadata": {
    "kernelspec": {
      "display_name": "Python 3",
      "language": "python",
      "name": "python3"
    },
    "language_info": {
      "codemirror_mode": {
        "name": "ipython",
        "version": 3
      },
      "file_extension": ".py",
      "mimetype": "text/x-python",
      "name": "python",
      "nbconvert_exporter": "python",
      "pygments_lexer": "ipython3",
      "version": "3.7.3"
    },
    "colab": {
      "name": "HW1.ipynb",
      "provenance": [],
      "collapsed_sections": []
    }
  },
  "cells": [
    {
      "cell_type": "markdown",
      "metadata": {
        "id": "X_CWZ1Ceu1BS"
      },
      "source": [
        "# COMP4220: Machine Learning, Spring 2021, Assignment 1\n",
        "Due: Wednesday, Feb 10, 11pm\n",
        "\n",
        "Please submit one pdf file for all questions.\n",
        "\n",
        "You can type your answers for the first two questions in the cell below of each question using \"Markdown\" option!\n",
        "\n",
        "\n",
        "****When turning in assignments after the due date, please clearly specify the number of late hours used."
      ]
    },
    {
      "cell_type": "markdown",
      "metadata": {
        "id": "nZDATuU1u1BX"
      },
      "source": [
        "# P1. What can go wrong if you tune hyperparameters using the test set?"
      ]
    },
    {
      "cell_type": "markdown",
      "metadata": {
        "id": "X3D4qP9eu1BY"
      },
      "source": [
        "If you use the test set to tune the hyperparameters, you can end up overfitting the model. This will cause the model to perform worse than expected because it is too specific to the test set."
      ]
    },
    {
      "cell_type": "markdown",
      "metadata": {
        "id": "Km7ZCyayu1BY"
      },
      "source": [
        "# P2. Please explain machine learning algorithms that rely on similarity measures to make predictions. "
      ]
    },
    {
      "cell_type": "markdown",
      "metadata": {
        "id": "So4rDS5Ru1BY"
      },
      "source": [
        "Machine learning that rely on similarity measures to make predictions is called instance based learning. It will learn from labeled cases and then calculate how similar the new case is from the learned case. It will then attach the same label as the majority of the most similar instances. "
      ]
    },
    {
      "cell_type": "markdown",
      "metadata": {
        "id": "OXXjaq7nu1BY"
      },
      "source": [
        "# P3. Programming Assignment"
      ]
    },
    {
      "cell_type": "markdown",
      "metadata": {
        "id": "fLPQwlevu1BZ"
      },
      "source": [
        "P3.1 Create two different ndarray using NumPy's arange function and step parameter. Please note that these arrays must have the same shape!\n",
        "\n",
        "\n",
        "\n",
        "Here are simple example, please create your own arrays!"
      ]
    },
    {
      "cell_type": "code",
      "metadata": {
        "colab": {
          "base_uri": "https://localhost:8080/"
        },
        "id": "dZf-jMueu1BZ",
        "outputId": "5f2e7dd0-0cb6-4ce1-f1cd-469e60f79676"
      },
      "source": [
        "import numpy as np\n",
        "a = np.arange(1, 5,1)\n",
        "b = np.arange(1, 9,2)\n",
        "print(\"a=\",a)\n",
        "print(\"b=\",b)\n",
        "\n",
        "# new arrays made below.\n",
        "c = np.arange(1, 11, 2.5)\n",
        "d = np.arange(5, 17, 3)\n",
        "print(\"c=\", c)\n",
        "print(\"d=\",d)"
      ],
      "execution_count": null,
      "outputs": [
        {
          "output_type": "stream",
          "text": [
            "a= [1 2 3 4]\n",
            "b= [1 3 5 7]\n",
            "c= [1.  3.5 6.  8.5]\n",
            "d= [ 5  8 11 14]\n"
          ],
          "name": "stdout"
        }
      ]
    },
    {
      "cell_type": "markdown",
      "metadata": {
        "id": "GpNVkACiu1Ba"
      },
      "source": [
        "# The element-wise product of two arrays\n",
        "\n",
        "\n",
        " P3.2 Multiply these two arrays and show the result using print function."
      ]
    },
    {
      "cell_type": "code",
      "metadata": {
        "colab": {
          "base_uri": "https://localhost:8080/"
        },
        "id": "U0tYCbREu1Ba",
        "outputId": "5ee00b49-5a75-43e1-8fe5-8e25487f0be7"
      },
      "source": [
        "e = c*d\n",
        "print(\"e=\", e)"
      ],
      "execution_count": null,
      "outputs": [
        {
          "output_type": "stream",
          "text": [
            "e= [  0.  20.  55. 105.]\n"
          ],
          "name": "stdout"
        }
      ]
    },
    {
      "cell_type": "markdown",
      "metadata": {
        "id": "7uMyN8YPu1Ba"
      },
      "source": [
        "# The dot multiplication of two arrays\n",
        "P3.3 Compute the dot multiplication of two arrays and show the result using print function."
      ]
    },
    {
      "cell_type": "code",
      "metadata": {
        "colab": {
          "base_uri": "https://localhost:8080/"
        },
        "id": "zCBikNEwu1Bb",
        "outputId": "6f945ece-76c5-49d9-85b5-a4600a27c429"
      },
      "source": [
        "def print_dot_mult( array1, array2):\n",
        "  sum = 0\n",
        "  if(len(array1) != len(array2)):\n",
        "    print(\"arrays are not the same size\")\n",
        "    return\n",
        "  \n",
        "  for i in range(len(array1)): # could also just do array1.dot(array2) instead of for loop\n",
        "    sum += array1[i] * array2[i]\n",
        "  \n",
        "  print(\"The dot product is \", sum)\n",
        "  return\n",
        "\n",
        "print_dot_mult(c,d)"
      ],
      "execution_count": null,
      "outputs": [
        {
          "output_type": "stream",
          "text": [
            "The dot product is  218.0\n"
          ],
          "name": "stdout"
        }
      ]
    },
    {
      "cell_type": "markdown",
      "metadata": {
        "id": "0RyQ4Qvru1Bb"
      },
      "source": [
        "# Arithmetic operations\n",
        "P3.4  Now, play with the arrays you created in previous step.\n",
        "\n",
        "\n",
        "To see how operaters like (+, -, *, /, //,**) \n",
        "apply elementwise, show the result of applying each of these operators with your arrays."
      ]
    },
    {
      "cell_type": "code",
      "metadata": {
        "colab": {
          "base_uri": "https://localhost:8080/"
        },
        "id": "Jk3jFfnLu1Bb",
        "outputId": "e4a8daef-e967-4d72-f05c-6f18f82bacd1"
      },
      "source": [
        "print(\"for review:\\n c = \", c, \"\\n d = \",d)\n",
        "\n",
        "print(\"for testing:\\nc + d = \", c+d)\n",
        "print(\"c - d = \", c-d)\n",
        "print(\"c / d = \", c/d)\n",
        "print(\"c // d = \", c//d)\n",
        "print(\"d // c = \", d//c) # switched order to see what floor division actually does per element\n",
        "print(\"c * d = \", c*d)\n",
        "print(\"c % d = \", c%d)\n",
        "print(\"d % c = \", d%c) # switched order to see what modulo actually does per element\n",
        "print(\"c ** d = \", c**d)"
      ],
      "execution_count": null,
      "outputs": [
        {
          "output_type": "stream",
          "text": [
            "for review:\n",
            " c =  [1.  3.5 6.  8.5] \n",
            " d =  [ 5  8 11 14]\n",
            "for testing:\n",
            "c + d =  [ 6.  11.5 17.  22.5]\n",
            "c - d =  [-4.  -4.5 -5.  -5.5]\n",
            "c / d =  [0.2        0.4375     0.54545455 0.60714286]\n",
            "c // d =  [0. 0. 0. 0.]\n",
            "d // c =  [5. 2. 1. 1.]\n",
            "c * d =  [  5.  28.  66. 119.]\n",
            "c % d =  [1.  3.5 6.  8.5]\n",
            "d % c =  [0.  1.  5.  5.5]\n",
            "c ** d =  [1.00000000e+00 2.25187539e+04 3.62797056e+08 1.02769670e+13]\n"
          ],
          "name": "stdout"
        }
      ]
    }
  ]
}