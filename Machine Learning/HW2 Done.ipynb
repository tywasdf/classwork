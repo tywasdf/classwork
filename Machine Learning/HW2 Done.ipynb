{
  "nbformat": 4,
  "nbformat_minor": 0,
  "metadata": {
    "kernelspec": {
      "display_name": "Python 3",
      "language": "python",
      "name": "python3"
    },
    "language_info": {
      "codemirror_mode": {
        "name": "ipython",
        "version": 3
      },
      "file_extension": ".py",
      "mimetype": "text/x-python",
      "name": "python",
      "nbconvert_exporter": "python",
      "pygments_lexer": "ipython3",
      "version": "3.7.4"
    },
    "colab": {
      "name": "HW2.ipynb",
      "provenance": [],
      "collapsed_sections": [],
      "toc_visible": true
    }
  },
  "cells": [
    {
      "cell_type": "markdown",
      "metadata": {
        "id": "KcP3oCHmhjIX"
      },
      "source": [
        "# COMP4220: Machine Learning, Spring 2021, Assignment 2\n",
        "Due: Wednsday, Feb 24, 11pm\n",
        "\n",
        "Please submit one pdf file for all questions.\n",
        "\n",
        "You can type your answer for the first two questions in the below cell of each question using \"Markdown\" option!\n",
        "\n",
        "\n",
        "****When turning in assignments after the due date, please clearly specify the number of late hours used."
      ]
    },
    {
      "cell_type": "markdown",
      "metadata": {
        "id": "0rkDLoRvhjIY"
      },
      "source": [
        "# Import libraries"
      ]
    },
    {
      "cell_type": "code",
      "metadata": {
        "id": "B3jNO_30hjIZ"
      },
      "source": [
        "import pandas as pd\n",
        "import numpy as np\n",
        "import matplotlib.pyplot as plt\n",
        "%matplotlib inline"
      ],
      "execution_count": null,
      "outputs": []
    },
    {
      "cell_type": "markdown",
      "metadata": {
        "id": "E1xk5XbnhjIZ"
      },
      "source": [
        "# pandas programming assignment"
      ]
    },
    {
      "cell_type": "markdown",
      "metadata": {
        "id": "kI4EvbSShjIZ"
      },
      "source": [
        "# P1. Visualization"
      ]
    },
    {
      "cell_type": "markdown",
      "metadata": {
        "id": "H2gqy2KOhjIa"
      },
      "source": [
        "# p1.1  stack two series horizontally and show the result."
      ]
    },
    {
      "cell_type": "code",
      "metadata": {
        "colab": {
          "base_uri": "https://localhost:8080/"
        },
        "id": "cuLLwRAKhjIa",
        "outputId": "15364332-8ffc-4a66-de2f-20c413b6bd73"
      },
      "source": [
        "\n",
        "# Horizontal\n",
        "s1 = pd.Series(range(0,30,2))\n",
        "s2 = pd.Series(list('MACHINELEARNING'))\n",
        "df1 = pd.concat([s1, s2], axis = 1)\n",
        "print(df1)"
      ],
      "execution_count": null,
      "outputs": [
        {
          "output_type": "stream",
          "text": [
            "     0  1\n",
            "0    0  M\n",
            "1    2  A\n",
            "2    4  C\n",
            "3    6  H\n",
            "4    8  I\n",
            "5   10  N\n",
            "6   12  E\n",
            "7   14  L\n",
            "8   16  E\n",
            "9   18  A\n",
            "10  20  R\n",
            "11  22  N\n",
            "12  24  I\n",
            "13  26  N\n",
            "14  28  G\n"
          ],
          "name": "stdout"
        }
      ]
    },
    {
      "cell_type": "markdown",
      "metadata": {
        "id": "jnBHEQNvhjIa"
      },
      "source": [
        "# P1.2 show the histogram representing of following series."
      ]
    },
    {
      "cell_type": "code",
      "metadata": {
        "colab": {
          "base_uri": "https://localhost:8080/",
          "height": 282
        },
        "id": "9VwUz-8ohjIa",
        "outputId": "4c7d3f3d-6998-4d51-e869-c0d3ccfccb20"
      },
      "source": [
        "s3 = pd.Series([10, 15, 20, 25, 30,10, 15, 20, 25,30,10, 15, 20, 25,30,30,30,30,20,20,25,15])\n",
        "s3.hist()\n"
      ],
      "execution_count": null,
      "outputs": [
        {
          "output_type": "execute_result",
          "data": {
            "text/plain": [
              "<matplotlib.axes._subplots.AxesSubplot at 0x7f0406457190>"
            ]
          },
          "metadata": {
            "tags": []
          },
          "execution_count": 12
        },
        {
          "output_type": "display_data",
          "data": {
            "image/png": "[encoded data removed]",
            "text/plain": [
              "<Figure size 432x288 with 1 Axes>"
            ]
          },
          "metadata": {
            "tags": [],
            "needs_background": "light"
          }
        }
      ]
    },
    {
      "cell_type": "markdown",
      "metadata": {
        "id": "qKcp4zaThjIb"
      },
      "source": [
        "# P1.3. show the boxplot representing of following dataframe."
      ]
    },
    {
      "cell_type": "code",
      "metadata": {
        "colab": {
          "base_uri": "https://localhost:8080/",
          "height": 282
        },
        "id": "JTMdLRD3hjIb",
        "outputId": "bfb77ca9-1fa8-42e2-909d-e9a75c7fedf1"
      },
      "source": [
        "# Boxplot can be drawn by calling Series.plot.box() and DataFrame.plot.box(),\n",
        "# or DataFrame.boxplot() to visualize the distribution of values within each column.\n",
        "\n",
        "\n",
        "\n",
        "df2=pd.DataFrame(\n",
        "    {\"A\": np.random.randn(10000)+5,\"B\": np.random.randn(10000),\"C\": np.random.randn(10000)-5},\n",
        "    columns=[\"A\", \"B\", \"C\"])\n",
        "    \n",
        "df2.boxplot()"
      ],
      "execution_count": null,
      "outputs": [
        {
          "output_type": "execute_result",
          "data": {
            "text/plain": [
              "<matplotlib.axes._subplots.AxesSubplot at 0x7f04061c4b50>"
            ]
          },
          "metadata": {
            "tags": []
          },
          "execution_count": 15
        },
        {
          "output_type": "display_data",
          "data": {
            "image/png": "[encoded data removed]",
            "text/plain": [
              "<Figure size 432x288 with 1 Axes>"
            ]
          },
          "metadata": {
            "tags": [],
            "needs_background": "light"
          }
        }
      ]
    },
    {
      "cell_type": "markdown",
      "metadata": {
        "id": "z84Wv4EhhjIb"
      },
      "source": [
        "# P2. Working with winedataset"
      ]
    },
    {
      "cell_type": "code",
      "metadata": {
        "colab": {
          "base_uri": "https://localhost:8080/",
          "height": 323
        },
        "id": "IiZS4bKkhjIb",
        "outputId": "5719b13c-2344-4336-c118-9c2054a477ca"
      },
      "source": [
        "# Load dataset\n",
        "reviews = pd.read_csv(\"winemag-data-130k-v2.csv\", index_col=0)\n",
        "reviews.head()"
      ],
      "execution_count": null,
      "outputs": [
        {
          "output_type": "execute_result",
          "data": {
            "text/html": [
              "<div>\n",
              "<style scoped>\n",
              "    .dataframe tbody tr th:only-of-type {\n",
              "        vertical-align: middle;\n",
              "    }\n",
              "\n",
              "    .dataframe tbody tr th {\n",
              "        vertical-align: top;\n",
              "    }\n",
              "\n",
              "    .dataframe thead th {\n",
              "        text-align: right;\n",
              "    }\n",
              "</style>\n",
              "<table border=\"1\" class=\"dataframe\">\n",
              "  <thead>\n",
              "    <tr style=\"text-align: right;\">\n",
              "      <th></th>\n",
              "      <th>country</th>\n",
              "      <th>description</th>\n",
              "      <th>designation</th>\n",
              "      <th>points</th>\n",
              "      <th>price</th>\n",
              "      <th>province</th>\n",
              "      <th>region_1</th>\n",
              "      <th>region_2</th>\n",
              "      <th>taster_name</th>\n",
              "      <th>taster_twitter_handle</th>\n",
              "      <th>title</th>\n",
              "      <th>variety</th>\n",
              "      <th>winery</th>\n",
              "    </tr>\n",
              "  </thead>\n",
              "  <tbody>\n",
              "    <tr>\n",
              "      <th>0</th>\n",
              "      <td>Italy</td>\n",
              "      <td>Aromas include tropical fruit, broom, brimston...</td>\n",
              "      <td>Vulkà Bianco</td>\n",
              "      <td>87</td>\n",
              "      <td>NaN</td>\n",
              "      <td>Sicily &amp; Sardinia</td>\n",
              "      <td>Etna</td>\n",
              "      <td>NaN</td>\n",
              "      <td>Kerin O’Keefe</td>\n",
              "      <td>@kerinokeefe</td>\n",
              "      <td>Nicosia 2013 Vulkà Bianco  (Etna)</td>\n",
              "      <td>White Blend</td>\n",
              "      <td>Nicosia</td>\n",
              "    </tr>\n",
              "    <tr>\n",
              "      <th>1</th>\n",
              "      <td>Portugal</td>\n",
              "      <td>This is ripe and fruity, a wine that is smooth...</td>\n",
              "      <td>Avidagos</td>\n",
              "      <td>87</td>\n",
              "      <td>15.0</td>\n",
              "      <td>Douro</td>\n",
              "      <td>NaN</td>\n",
              "      <td>NaN</td>\n",
              "      <td>Roger Voss</td>\n",
              "      <td>@vossroger</td>\n",
              "      <td>Quinta dos Avidagos 2011 Avidagos Red (Douro)</td>\n",
              "      <td>Portuguese Red</td>\n",
              "      <td>Quinta dos Avidagos</td>\n",
              "    </tr>\n",
              "    <tr>\n",
              "      <th>2</th>\n",
              "      <td>US</td>\n",
              "      <td>Tart and snappy, the flavors of lime flesh and...</td>\n",
              "      <td>NaN</td>\n",
              "      <td>87</td>\n",
              "      <td>14.0</td>\n",
              "      <td>Oregon</td>\n",
              "      <td>Willamette Valley</td>\n",
              "      <td>Willamette Valley</td>\n",
              "      <td>Paul Gregutt</td>\n",
              "      <td>@paulgwine</td>\n",
              "      <td>Rainstorm 2013 Pinot Gris (Willamette Valley)</td>\n",
              "      <td>Pinot Gris</td>\n",
              "      <td>Rainstorm</td>\n",
              "    </tr>\n",
              "    <tr>\n",
              "      <th>3</th>\n",
              "      <td>US</td>\n",
              "      <td>Pineapple rind, lemon pith and orange blossom ...</td>\n",
              "      <td>Reserve Late Harvest</td>\n",
              "      <td>87</td>\n",
              "      <td>13.0</td>\n",
              "      <td>Michigan</td>\n",
              "      <td>Lake Michigan Shore</td>\n",
              "      <td>NaN</td>\n",
              "      <td>Alexander Peartree</td>\n",
              "      <td>NaN</td>\n",
              "      <td>St. Julian 2013 Reserve Late Harvest Riesling ...</td>\n",
              "      <td>Riesling</td>\n",
              "      <td>St. Julian</td>\n",
              "    </tr>\n",
              "    <tr>\n",
              "      <th>4</th>\n",
              "      <td>US</td>\n",
              "      <td>Much like the regular bottling from 2012, this...</td>\n",
              "      <td>Vintner's Reserve Wild Child Block</td>\n",
              "      <td>87</td>\n",
              "      <td>65.0</td>\n",
              "      <td>Oregon</td>\n",
              "      <td>Willamette Valley</td>\n",
              "      <td>Willamette Valley</td>\n",
              "      <td>Paul Gregutt</td>\n",
              "      <td>@paulgwine</td>\n",
              "      <td>Sweet Cheeks 2012 Vintner's Reserve Wild Child...</td>\n",
              "      <td>Pinot Noir</td>\n",
              "      <td>Sweet Cheeks</td>\n",
              "    </tr>\n",
              "  </tbody>\n",
              "</table>\n",
              "</div>"
            ],
            "text/plain": [
              "    country  ...               winery\n",
              "0     Italy  ...              Nicosia\n",
              "1  Portugal  ...  Quinta dos Avidagos\n",
              "2        US  ...            Rainstorm\n",
              "3        US  ...           St. Julian\n",
              "4        US  ...         Sweet Cheeks\n",
              "\n",
              "[5 rows x 13 columns]"
            ]
          },
          "metadata": {
            "tags": []
          },
          "execution_count": 29
        }
      ]
    },
    {
      "cell_type": "markdown",
      "metadata": {
        "id": "Y6gzfmuMhjIc"
      },
      "source": [
        "# P2.1 Select the description column from reviews and assign the result to the variable desc."
      ]
    },
    {
      "cell_type": "code",
      "metadata": {
        "colab": {
          "base_uri": "https://localhost:8080/"
        },
        "id": "gugsne-2hjIc",
        "outputId": "e4b32159-2a1c-43a9-bae5-2ecc18a6430f"
      },
      "source": [
        "desc = reviews[\"description\"]\n",
        "desc"
      ],
      "execution_count": null,
      "outputs": [
        {
          "output_type": "execute_result",
          "data": {
            "text/plain": [
              "0         Aromas include tropical fruit, broom, brimston...\n",
              "1         This is ripe and fruity, a wine that is smooth...\n",
              "2         Tart and snappy, the flavors of lime flesh and...\n",
              "3         Pineapple rind, lemon pith and orange blossom ...\n",
              "4         Much like the regular bottling from 2012, this...\n",
              "                                ...                        \n",
              "129966    Notes of honeysuckle and cantaloupe sweeten th...\n",
              "129967    Citation is given as much as a decade of bottl...\n",
              "129968    Well-drained gravel soil gives this wine its c...\n",
              "129969    A dry style of Pinot Gris, this is crisp with ...\n",
              "129970    Big, rich and off-dry, this is powered by inte...\n",
              "Name: description, Length: 129971, dtype: object"
            ]
          },
          "metadata": {
            "tags": []
          },
          "execution_count": 33
        }
      ]
    },
    {
      "cell_type": "markdown",
      "metadata": {
        "id": "G1WqJnxBhjIc"
      },
      "source": [
        "# P2.2 Select the first value from the description column of reviews, assigning it to variable first_description."
      ]
    },
    {
      "cell_type": "code",
      "metadata": {
        "colab": {
          "base_uri": "https://localhost:8080/",
          "height": 35
        },
        "id": "z2XScbRUhjIc",
        "outputId": "b391d58c-c927-4e5e-fbd3-4900a47546d3"
      },
      "source": [
        "first_description = desc.iloc[0]\n",
        "first_description "
      ],
      "execution_count": null,
      "outputs": [
        {
          "output_type": "execute_result",
          "data": {
            "application/vnd.google.colaboratory.intrinsic+json": {
              "type": "string"
            },
            "text/plain": [
              "\"Aromas include tropical fruit, broom, brimstone and dried herb. The palate isn't overly expressive, offering unripened apple, citrus and dried sage alongside brisk acidity.\""
            ]
          },
          "metadata": {
            "tags": []
          },
          "execution_count": 36
        }
      ]
    },
    {
      "cell_type": "markdown",
      "metadata": {
        "id": "rP40SSjhhjIc"
      },
      "source": [
        "# P2.3 Select the first row of data (the first record) from reviews, assigning it to the variable first_row."
      ]
    },
    {
      "cell_type": "code",
      "metadata": {
        "colab": {
          "base_uri": "https://localhost:8080/"
        },
        "id": "-B7VROwohjId",
        "outputId": "3c3148b9-ec92-4508-b2a0-b9efd705cefc"
      },
      "source": [
        "first_row = reviews.iloc[0]\n",
        "first_row"
      ],
      "execution_count": null,
      "outputs": [
        {
          "output_type": "execute_result",
          "data": {
            "text/plain": [
              "country                                                              Italy\n",
              "description              Aromas include tropical fruit, broom, brimston...\n",
              "designation                                                   Vulkà Bianco\n",
              "points                                                                  87\n",
              "price                                                                  NaN\n",
              "province                                                 Sicily & Sardinia\n",
              "region_1                                                              Etna\n",
              "region_2                                                               NaN\n",
              "taster_name                                                  Kerin O’Keefe\n",
              "taster_twitter_handle                                         @kerinokeefe\n",
              "title                                    Nicosia 2013 Vulkà Bianco  (Etna)\n",
              "variety                                                        White Blend\n",
              "winery                                                             Nicosia\n",
              "Name: 0, dtype: object"
            ]
          },
          "metadata": {
            "tags": []
          },
          "execution_count": 44
        }
      ]
    },
    {
      "cell_type": "markdown",
      "metadata": {
        "id": "IFLfJ5kGhjId"
      },
      "source": [
        "# P2.4 Select the first 10 values from the description column in reviews, assigning the result to variable first_descriptions."
      ]
    },
    {
      "cell_type": "code",
      "metadata": {
        "colab": {
          "base_uri": "https://localhost:8080/"
        },
        "id": "vWgJzVZxhjId",
        "outputId": "1e720e5f-c5bb-45af-df72-02f3d8f49a32"
      },
      "source": [
        "first_descriptions = desc.head(10)\n",
        "first_descriptions\n"
      ],
      "execution_count": null,
      "outputs": [
        {
          "output_type": "execute_result",
          "data": {
            "text/plain": [
              "0    Aromas include tropical fruit, broom, brimston...\n",
              "1    This is ripe and fruity, a wine that is smooth...\n",
              "2    Tart and snappy, the flavors of lime flesh and...\n",
              "3    Pineapple rind, lemon pith and orange blossom ...\n",
              "4    Much like the regular bottling from 2012, this...\n",
              "5    Blackberry and raspberry aromas show a typical...\n",
              "6    Here's a bright, informal red that opens with ...\n",
              "7    This dry and restrained wine offers spice in p...\n",
              "8    Savory dried thyme notes accent sunnier flavor...\n",
              "9    This has great depth of flavor with its fresh ...\n",
              "Name: description, dtype: object"
            ]
          },
          "metadata": {
            "tags": []
          },
          "execution_count": 39
        }
      ]
    },
    {
      "cell_type": "markdown",
      "metadata": {
        "id": "LXdoDm6VhjId"
      },
      "source": [
        "# P2.5 Select the records with index labels 1, 2, 3, 5, and 8, assigning the result to the variable sample_reviews."
      ]
    },
    {
      "cell_type": "code",
      "metadata": {
        "colab": {
          "base_uri": "https://localhost:8080/",
          "height": 323
        },
        "id": "M25_XN4phjId",
        "outputId": "a52c47dc-582f-47be-f71c-07f72c4932d2"
      },
      "source": [
        "index = [1,2,3,5,8]\n",
        "sample_reviews = reviews.iloc[index]\n",
        "sample_reviews"
      ],
      "execution_count": null,
      "outputs": [
        {
          "output_type": "execute_result",
          "data": {
            "text/html": [
              "<div>\n",
              "<style scoped>\n",
              "    .dataframe tbody tr th:only-of-type {\n",
              "        vertical-align: middle;\n",
              "    }\n",
              "\n",
              "    .dataframe tbody tr th {\n",
              "        vertical-align: top;\n",
              "    }\n",
              "\n",
              "    .dataframe thead th {\n",
              "        text-align: right;\n",
              "    }\n",
              "</style>\n",
              "<table border=\"1\" class=\"dataframe\">\n",
              "  <thead>\n",
              "    <tr style=\"text-align: right;\">\n",
              "      <th></th>\n",
              "      <th>country</th>\n",
              "      <th>description</th>\n",
              "      <th>designation</th>\n",
              "      <th>points</th>\n",
              "      <th>price</th>\n",
              "      <th>province</th>\n",
              "      <th>region_1</th>\n",
              "      <th>region_2</th>\n",
              "      <th>taster_name</th>\n",
              "      <th>taster_twitter_handle</th>\n",
              "      <th>title</th>\n",
              "      <th>variety</th>\n",
              "      <th>winery</th>\n",
              "    </tr>\n",
              "  </thead>\n",
              "  <tbody>\n",
              "    <tr>\n",
              "      <th>1</th>\n",
              "      <td>Portugal</td>\n",
              "      <td>This is ripe and fruity, a wine that is smooth...</td>\n",
              "      <td>Avidagos</td>\n",
              "      <td>87</td>\n",
              "      <td>15.0</td>\n",
              "      <td>Douro</td>\n",
              "      <td>NaN</td>\n",
              "      <td>NaN</td>\n",
              "      <td>Roger Voss</td>\n",
              "      <td>@vossroger</td>\n",
              "      <td>Quinta dos Avidagos 2011 Avidagos Red (Douro)</td>\n",
              "      <td>Portuguese Red</td>\n",
              "      <td>Quinta dos Avidagos</td>\n",
              "    </tr>\n",
              "    <tr>\n",
              "      <th>2</th>\n",
              "      <td>US</td>\n",
              "      <td>Tart and snappy, the flavors of lime flesh and...</td>\n",
              "      <td>NaN</td>\n",
              "      <td>87</td>\n",
              "      <td>14.0</td>\n",
              "      <td>Oregon</td>\n",
              "      <td>Willamette Valley</td>\n",
              "      <td>Willamette Valley</td>\n",
              "      <td>Paul Gregutt</td>\n",
              "      <td>@paulgwine</td>\n",
              "      <td>Rainstorm 2013 Pinot Gris (Willamette Valley)</td>\n",
              "      <td>Pinot Gris</td>\n",
              "      <td>Rainstorm</td>\n",
              "    </tr>\n",
              "    <tr>\n",
              "      <th>3</th>\n",
              "      <td>US</td>\n",
              "      <td>Pineapple rind, lemon pith and orange blossom ...</td>\n",
              "      <td>Reserve Late Harvest</td>\n",
              "      <td>87</td>\n",
              "      <td>13.0</td>\n",
              "      <td>Michigan</td>\n",
              "      <td>Lake Michigan Shore</td>\n",
              "      <td>NaN</td>\n",
              "      <td>Alexander Peartree</td>\n",
              "      <td>NaN</td>\n",
              "      <td>St. Julian 2013 Reserve Late Harvest Riesling ...</td>\n",
              "      <td>Riesling</td>\n",
              "      <td>St. Julian</td>\n",
              "    </tr>\n",
              "    <tr>\n",
              "      <th>5</th>\n",
              "      <td>Spain</td>\n",
              "      <td>Blackberry and raspberry aromas show a typical...</td>\n",
              "      <td>Ars In Vitro</td>\n",
              "      <td>87</td>\n",
              "      <td>15.0</td>\n",
              "      <td>Northern Spain</td>\n",
              "      <td>Navarra</td>\n",
              "      <td>NaN</td>\n",
              "      <td>Michael Schachner</td>\n",
              "      <td>@wineschach</td>\n",
              "      <td>Tandem 2011 Ars In Vitro Tempranillo-Merlot (N...</td>\n",
              "      <td>Tempranillo-Merlot</td>\n",
              "      <td>Tandem</td>\n",
              "    </tr>\n",
              "    <tr>\n",
              "      <th>8</th>\n",
              "      <td>Germany</td>\n",
              "      <td>Savory dried thyme notes accent sunnier flavor...</td>\n",
              "      <td>Shine</td>\n",
              "      <td>87</td>\n",
              "      <td>12.0</td>\n",
              "      <td>Rheinhessen</td>\n",
              "      <td>NaN</td>\n",
              "      <td>NaN</td>\n",
              "      <td>Anna Lee C. Iijima</td>\n",
              "      <td>NaN</td>\n",
              "      <td>Heinz Eifel 2013 Shine Gewürztraminer (Rheinhe...</td>\n",
              "      <td>Gewürztraminer</td>\n",
              "      <td>Heinz Eifel</td>\n",
              "    </tr>\n",
              "  </tbody>\n",
              "</table>\n",
              "</div>"
            ],
            "text/plain": [
              "    country  ...               winery\n",
              "1  Portugal  ...  Quinta dos Avidagos\n",
              "2        US  ...            Rainstorm\n",
              "3        US  ...           St. Julian\n",
              "5     Spain  ...               Tandem\n",
              "8   Germany  ...          Heinz Eifel\n",
              "\n",
              "[5 rows x 13 columns]"
            ]
          },
          "metadata": {
            "tags": []
          },
          "execution_count": 47
        }
      ]
    },
    {
      "cell_type": "markdown",
      "metadata": {
        "id": "4oHXOVAHhjId"
      },
      "source": [
        "# P2.6 Create a variable df containing the country, province, region_1, and region_2 columns of the records with the index labels 0, 1, 10, and 100. Show the result."
      ]
    },
    {
      "cell_type": "code",
      "metadata": {
        "colab": {
          "base_uri": "https://localhost:8080/"
        },
        "id": "i9lpWfD7hjIe",
        "outputId": "6e42b856-3a94-4d43-ba62-195dd68d01f8"
      },
      "source": [
        "df3_index = [0,1,10,100]\n",
        "df3 = reviews.iloc[index],['country', 'province','region_1', 'region_2']\n",
        "df3"
      ],
      "execution_count": null,
      "outputs": [
        {
          "output_type": "execute_result",
          "data": {
            "text/plain": [
              "(    country  ...               winery\n",
              " 1  Portugal  ...  Quinta dos Avidagos\n",
              " 2        US  ...            Rainstorm\n",
              " 3        US  ...           St. Julian\n",
              " 5     Spain  ...               Tandem\n",
              " 8   Germany  ...          Heinz Eifel\n",
              " \n",
              " [5 rows x 13 columns], ['country', 'province', 'region_1', 'region_2'])"
            ]
          },
          "metadata": {
            "tags": []
          },
          "execution_count": 52
        }
      ]
    },
    {
      "cell_type": "markdown",
      "metadata": {
        "id": "iEiMxemChjIe"
      },
      "source": [
        "# P2.7 Create a variable df containing the country and variety columns of the first 100 records. Show the result."
      ]
    },
    {
      "cell_type": "code",
      "metadata": {
        "colab": {
          "base_uri": "https://localhost:8080/"
        },
        "id": "2SO56C7ghjIe",
        "outputId": "84ad18c9-52bb-4ee9-bf2d-f91e74c81e3d"
      },
      "source": [
        "df4 = reviews.iloc[range(0,100,1)],['country', 'variety']\n",
        "df4"
      ],
      "execution_count": null,
      "outputs": [
        {
          "output_type": "execute_result",
          "data": {
            "text/plain": [
              "(     country  ...               winery\n",
              " 0      Italy  ...              Nicosia\n",
              " 1   Portugal  ...  Quinta dos Avidagos\n",
              " 2         US  ...            Rainstorm\n",
              " 3         US  ...           St. Julian\n",
              " 4         US  ...         Sweet Cheeks\n",
              " ..       ...  ...                  ...\n",
              " 95    France  ...          Henry Fessy\n",
              " 96    France  ...          Henry Fessy\n",
              " 97        US  ...           Heron Hill\n",
              " 98     Italy  ...  Serpaia di Endrizzi\n",
              " 99        US  ...     Soquel Vineyards\n",
              " \n",
              " [100 rows x 13 columns], ['country', 'variety'])"
            ]
          },
          "metadata": {
            "tags": []
          },
          "execution_count": 55
        }
      ]
    },
    {
      "cell_type": "markdown",
      "metadata": {
        "id": "yG0nSF5WhjIe"
      },
      "source": [
        "# P2.8 Create a DataFrame italian_wines containing reviews of wines made in Italy."
      ]
    },
    {
      "cell_type": "code",
      "metadata": {
        "colab": {
          "base_uri": "https://localhost:8080/",
          "height": 674
        },
        "id": "3TE2dkfUhjIe",
        "outputId": "884b9402-c2e1-45ca-9fd4-f807972c3f52"
      },
      "source": [
        "italian_wines = reviews[reviews['country'] == 'Italy']\n",
        "italian_wines"
      ],
      "execution_count": null,
      "outputs": [
        {
          "output_type": "execute_result",
          "data": {
            "text/html": [
              "<div>\n",
              "<style scoped>\n",
              "    .dataframe tbody tr th:only-of-type {\n",
              "        vertical-align: middle;\n",
              "    }\n",
              "\n",
              "    .dataframe tbody tr th {\n",
              "        vertical-align: top;\n",
              "    }\n",
              "\n",
              "    .dataframe thead th {\n",
              "        text-align: right;\n",
              "    }\n",
              "</style>\n",
              "<table border=\"1\" class=\"dataframe\">\n",
              "  <thead>\n",
              "    <tr style=\"text-align: right;\">\n",
              "      <th></th>\n",
              "      <th>country</th>\n",
              "      <th>description</th>\n",
              "      <th>designation</th>\n",
              "      <th>points</th>\n",
              "      <th>price</th>\n",
              "      <th>province</th>\n",
              "      <th>region_1</th>\n",
              "      <th>region_2</th>\n",
              "      <th>taster_name</th>\n",
              "      <th>taster_twitter_handle</th>\n",
              "      <th>title</th>\n",
              "      <th>variety</th>\n",
              "      <th>winery</th>\n",
              "    </tr>\n",
              "  </thead>\n",
              "  <tbody>\n",
              "    <tr>\n",
              "      <th>0</th>\n",
              "      <td>Italy</td>\n",
              "      <td>Aromas include tropical fruit, broom, brimston...</td>\n",
              "      <td>Vulkà Bianco</td>\n",
              "      <td>87</td>\n",
              "      <td>NaN</td>\n",
              "      <td>Sicily &amp; Sardinia</td>\n",
              "      <td>Etna</td>\n",
              "      <td>NaN</td>\n",
              "      <td>Kerin O’Keefe</td>\n",
              "      <td>@kerinokeefe</td>\n",
              "      <td>Nicosia 2013 Vulkà Bianco  (Etna)</td>\n",
              "      <td>White Blend</td>\n",
              "      <td>Nicosia</td>\n",
              "    </tr>\n",
              "    <tr>\n",
              "      <th>6</th>\n",
              "      <td>Italy</td>\n",
              "      <td>Here's a bright, informal red that opens with ...</td>\n",
              "      <td>Belsito</td>\n",
              "      <td>87</td>\n",
              "      <td>16.0</td>\n",
              "      <td>Sicily &amp; Sardinia</td>\n",
              "      <td>Vittoria</td>\n",
              "      <td>NaN</td>\n",
              "      <td>Kerin O’Keefe</td>\n",
              "      <td>@kerinokeefe</td>\n",
              "      <td>Terre di Giurfo 2013 Belsito Frappato (Vittoria)</td>\n",
              "      <td>Frappato</td>\n",
              "      <td>Terre di Giurfo</td>\n",
              "    </tr>\n",
              "    <tr>\n",
              "      <th>13</th>\n",
              "      <td>Italy</td>\n",
              "      <td>This is dominated by oak and oak-driven aromas...</td>\n",
              "      <td>Rosso</td>\n",
              "      <td>87</td>\n",
              "      <td>NaN</td>\n",
              "      <td>Sicily &amp; Sardinia</td>\n",
              "      <td>Etna</td>\n",
              "      <td>NaN</td>\n",
              "      <td>Kerin O’Keefe</td>\n",
              "      <td>@kerinokeefe</td>\n",
              "      <td>Masseria Setteporte 2012 Rosso  (Etna)</td>\n",
              "      <td>Nerello Mascalese</td>\n",
              "      <td>Masseria Setteporte</td>\n",
              "    </tr>\n",
              "    <tr>\n",
              "      <th>22</th>\n",
              "      <td>Italy</td>\n",
              "      <td>Delicate aromas recall white flower and citrus...</td>\n",
              "      <td>Ficiligno</td>\n",
              "      <td>87</td>\n",
              "      <td>19.0</td>\n",
              "      <td>Sicily &amp; Sardinia</td>\n",
              "      <td>Sicilia</td>\n",
              "      <td>NaN</td>\n",
              "      <td>Kerin O’Keefe</td>\n",
              "      <td>@kerinokeefe</td>\n",
              "      <td>Baglio di Pianetto 2007 Ficiligno White (Sicilia)</td>\n",
              "      <td>White Blend</td>\n",
              "      <td>Baglio di Pianetto</td>\n",
              "    </tr>\n",
              "    <tr>\n",
              "      <th>24</th>\n",
              "      <td>Italy</td>\n",
              "      <td>Aromas of prune, blackcurrant, toast and oak c...</td>\n",
              "      <td>Aynat</td>\n",
              "      <td>87</td>\n",
              "      <td>35.0</td>\n",
              "      <td>Sicily &amp; Sardinia</td>\n",
              "      <td>Sicilia</td>\n",
              "      <td>NaN</td>\n",
              "      <td>Kerin O’Keefe</td>\n",
              "      <td>@kerinokeefe</td>\n",
              "      <td>Canicattì 2009 Aynat Nero d'Avola (Sicilia)</td>\n",
              "      <td>Nero d'Avola</td>\n",
              "      <td>Canicattì</td>\n",
              "    </tr>\n",
              "    <tr>\n",
              "      <th>...</th>\n",
              "      <td>...</td>\n",
              "      <td>...</td>\n",
              "      <td>...</td>\n",
              "      <td>...</td>\n",
              "      <td>...</td>\n",
              "      <td>...</td>\n",
              "      <td>...</td>\n",
              "      <td>...</td>\n",
              "      <td>...</td>\n",
              "      <td>...</td>\n",
              "      <td>...</td>\n",
              "      <td>...</td>\n",
              "      <td>...</td>\n",
              "    </tr>\n",
              "    <tr>\n",
              "      <th>129929</th>\n",
              "      <td>Italy</td>\n",
              "      <td>This luminous sparkler has a sweet, fruit-forw...</td>\n",
              "      <td>NaN</td>\n",
              "      <td>91</td>\n",
              "      <td>38.0</td>\n",
              "      <td>Veneto</td>\n",
              "      <td>Prosecco Superiore di Cartizze</td>\n",
              "      <td>NaN</td>\n",
              "      <td>NaN</td>\n",
              "      <td>NaN</td>\n",
              "      <td>Col Vetoraz Spumanti NV  Prosecco Superiore di...</td>\n",
              "      <td>Prosecco</td>\n",
              "      <td>Col Vetoraz Spumanti</td>\n",
              "    </tr>\n",
              "    <tr>\n",
              "      <th>129943</th>\n",
              "      <td>Italy</td>\n",
              "      <td>A blend of Nero d'Avola and Syrah, this convey...</td>\n",
              "      <td>Adènzia</td>\n",
              "      <td>90</td>\n",
              "      <td>29.0</td>\n",
              "      <td>Sicily &amp; Sardinia</td>\n",
              "      <td>Sicilia</td>\n",
              "      <td>NaN</td>\n",
              "      <td>Kerin O’Keefe</td>\n",
              "      <td>@kerinokeefe</td>\n",
              "      <td>Baglio del Cristo di Campobello 2012 Adènzia R...</td>\n",
              "      <td>Red Blend</td>\n",
              "      <td>Baglio del Cristo di Campobello</td>\n",
              "    </tr>\n",
              "    <tr>\n",
              "      <th>129947</th>\n",
              "      <td>Italy</td>\n",
              "      <td>A blend of 65% Cabernet Sauvignon, 30% Merlot ...</td>\n",
              "      <td>Symposio</td>\n",
              "      <td>90</td>\n",
              "      <td>20.0</td>\n",
              "      <td>Sicily &amp; Sardinia</td>\n",
              "      <td>Terre Siciliane</td>\n",
              "      <td>NaN</td>\n",
              "      <td>Kerin O’Keefe</td>\n",
              "      <td>@kerinokeefe</td>\n",
              "      <td>Feudo Principi di Butera 2012 Symposio Red (Te...</td>\n",
              "      <td>Red Blend</td>\n",
              "      <td>Feudo Principi di Butera</td>\n",
              "    </tr>\n",
              "    <tr>\n",
              "      <th>129961</th>\n",
              "      <td>Italy</td>\n",
              "      <td>Intense aromas of wild cherry, baking spice, t...</td>\n",
              "      <td>NaN</td>\n",
              "      <td>90</td>\n",
              "      <td>30.0</td>\n",
              "      <td>Sicily &amp; Sardinia</td>\n",
              "      <td>Sicilia</td>\n",
              "      <td>NaN</td>\n",
              "      <td>Kerin O’Keefe</td>\n",
              "      <td>@kerinokeefe</td>\n",
              "      <td>COS 2013 Frappato (Sicilia)</td>\n",
              "      <td>Frappato</td>\n",
              "      <td>COS</td>\n",
              "    </tr>\n",
              "    <tr>\n",
              "      <th>129962</th>\n",
              "      <td>Italy</td>\n",
              "      <td>Blackberry, cassis, grilled herb and toasted a...</td>\n",
              "      <td>Sàgana Tenuta San Giacomo</td>\n",
              "      <td>90</td>\n",
              "      <td>40.0</td>\n",
              "      <td>Sicily &amp; Sardinia</td>\n",
              "      <td>Sicilia</td>\n",
              "      <td>NaN</td>\n",
              "      <td>Kerin O’Keefe</td>\n",
              "      <td>@kerinokeefe</td>\n",
              "      <td>Cusumano 2012 Sàgana Tenuta San Giacomo Nero d...</td>\n",
              "      <td>Nero d'Avola</td>\n",
              "      <td>Cusumano</td>\n",
              "    </tr>\n",
              "  </tbody>\n",
              "</table>\n",
              "<p>19540 rows × 13 columns</p>\n",
              "</div>"
            ],
            "text/plain": [
              "       country  ...                           winery\n",
              "0        Italy  ...                          Nicosia\n",
              "6        Italy  ...                  Terre di Giurfo\n",
              "13       Italy  ...              Masseria Setteporte\n",
              "22       Italy  ...               Baglio di Pianetto\n",
              "24       Italy  ...                        Canicattì\n",
              "...        ...  ...                              ...\n",
              "129929   Italy  ...             Col Vetoraz Spumanti\n",
              "129943   Italy  ...  Baglio del Cristo di Campobello\n",
              "129947   Italy  ...         Feudo Principi di Butera\n",
              "129961   Italy  ...                              COS\n",
              "129962   Italy  ...                         Cusumano\n",
              "\n",
              "[19540 rows x 13 columns]"
            ]
          },
          "metadata": {
            "tags": []
          },
          "execution_count": 57
        }
      ]
    },
    {
      "cell_type": "markdown",
      "metadata": {
        "id": "rtBF6_e4hjIe"
      },
      "source": [
        "# P2.9 Create a DataFrame top_oceania_wines containing all reviews with at least 95 points (out of 100) for wines from Australia or New Zealand."
      ]
    },
    {
      "cell_type": "code",
      "metadata": {
        "colab": {
          "base_uri": "https://localhost:8080/",
          "height": 1000
        },
        "id": "dYi_W7ichjIe",
        "outputId": "c5e259ef-4af5-4742-f4c4-b1d0e7b4bfd4"
      },
      "source": [
        "top_oceania_wines = reviews[(reviews['points'] >= 95) & ((reviews['country'] == 'Australia') | (reviews['country'] == 'New Zealand') )]\n",
        "top_oceania_wines"
      ],
      "execution_count": null,
      "outputs": [
        {
          "output_type": "execute_result",
          "data": {
            "text/html": [
              "<div>\n",
              "<style scoped>\n",
              "    .dataframe tbody tr th:only-of-type {\n",
              "        vertical-align: middle;\n",
              "    }\n",
              "\n",
              "    .dataframe tbody tr th {\n",
              "        vertical-align: top;\n",
              "    }\n",
              "\n",
              "    .dataframe thead th {\n",
              "        text-align: right;\n",
              "    }\n",
              "</style>\n",
              "<table border=\"1\" class=\"dataframe\">\n",
              "  <thead>\n",
              "    <tr style=\"text-align: right;\">\n",
              "      <th></th>\n",
              "      <th>country</th>\n",
              "      <th>description</th>\n",
              "      <th>designation</th>\n",
              "      <th>points</th>\n",
              "      <th>price</th>\n",
              "      <th>province</th>\n",
              "      <th>region_1</th>\n",
              "      <th>region_2</th>\n",
              "      <th>taster_name</th>\n",
              "      <th>taster_twitter_handle</th>\n",
              "      <th>title</th>\n",
              "      <th>variety</th>\n",
              "      <th>winery</th>\n",
              "    </tr>\n",
              "  </thead>\n",
              "  <tbody>\n",
              "    <tr>\n",
              "      <th>345</th>\n",
              "      <td>Australia</td>\n",
              "      <td>This wine contains some material over 100 year...</td>\n",
              "      <td>Rare</td>\n",
              "      <td>100</td>\n",
              "      <td>350.0</td>\n",
              "      <td>Victoria</td>\n",
              "      <td>Rutherglen</td>\n",
              "      <td>NaN</td>\n",
              "      <td>Joe Czerwinski</td>\n",
              "      <td>@JoeCz</td>\n",
              "      <td>Chambers Rosewood Vineyards NV Rare Muscat (Ru...</td>\n",
              "      <td>Muscat</td>\n",
              "      <td>Chambers Rosewood Vineyards</td>\n",
              "    </tr>\n",
              "    <tr>\n",
              "      <th>346</th>\n",
              "      <td>Australia</td>\n",
              "      <td>This deep brown wine smells like a damp, mossy...</td>\n",
              "      <td>Rare</td>\n",
              "      <td>98</td>\n",
              "      <td>350.0</td>\n",
              "      <td>Victoria</td>\n",
              "      <td>Rutherglen</td>\n",
              "      <td>NaN</td>\n",
              "      <td>Joe Czerwinski</td>\n",
              "      <td>@JoeCz</td>\n",
              "      <td>Chambers Rosewood Vineyards NV Rare Muscadelle...</td>\n",
              "      <td>Muscadelle</td>\n",
              "      <td>Chambers Rosewood Vineyards</td>\n",
              "    </tr>\n",
              "    <tr>\n",
              "      <th>348</th>\n",
              "      <td>Australia</td>\n",
              "      <td>Deep mahogany. Dried fig and black tea on the ...</td>\n",
              "      <td>Grand</td>\n",
              "      <td>97</td>\n",
              "      <td>100.0</td>\n",
              "      <td>Victoria</td>\n",
              "      <td>Rutherglen</td>\n",
              "      <td>NaN</td>\n",
              "      <td>Joe Czerwinski</td>\n",
              "      <td>@JoeCz</td>\n",
              "      <td>Chambers Rosewood Vineyards NV Grand Muscat (R...</td>\n",
              "      <td>Muscat</td>\n",
              "      <td>Chambers Rosewood Vineyards</td>\n",
              "    </tr>\n",
              "    <tr>\n",
              "      <th>349</th>\n",
              "      <td>Australia</td>\n",
              "      <td>RunRig is always complex, and the 2012 doesn't...</td>\n",
              "      <td>RunRig</td>\n",
              "      <td>97</td>\n",
              "      <td>225.0</td>\n",
              "      <td>South Australia</td>\n",
              "      <td>Barossa</td>\n",
              "      <td>NaN</td>\n",
              "      <td>Joe Czerwinski</td>\n",
              "      <td>@JoeCz</td>\n",
              "      <td>Torbreck 2012 RunRig Shiraz-Viognier (Barossa)</td>\n",
              "      <td>Shiraz-Viognier</td>\n",
              "      <td>Torbreck</td>\n",
              "    </tr>\n",
              "    <tr>\n",
              "      <th>356</th>\n",
              "      <td>Australia</td>\n",
              "      <td>Dusty, firm, powerful: just a few apt descript...</td>\n",
              "      <td>Georgia's Paddock</td>\n",
              "      <td>95</td>\n",
              "      <td>85.0</td>\n",
              "      <td>Victoria</td>\n",
              "      <td>Heathcote</td>\n",
              "      <td>NaN</td>\n",
              "      <td>Joe Czerwinski</td>\n",
              "      <td>@JoeCz</td>\n",
              "      <td>Jasper Hill 2013 Georgia's Paddock Shiraz (Hea...</td>\n",
              "      <td>Shiraz</td>\n",
              "      <td>Jasper Hill</td>\n",
              "    </tr>\n",
              "    <tr>\n",
              "      <th>360</th>\n",
              "      <td>Australia</td>\n",
              "      <td>Bacon and tapenade elements merge easily on th...</td>\n",
              "      <td>Descendant</td>\n",
              "      <td>95</td>\n",
              "      <td>125.0</td>\n",
              "      <td>South Australia</td>\n",
              "      <td>Barossa Valley</td>\n",
              "      <td>NaN</td>\n",
              "      <td>Joe Czerwinski</td>\n",
              "      <td>@JoeCz</td>\n",
              "      <td>Torbreck 2012 Descendant Shiraz-Viognier (Baro...</td>\n",
              "      <td>Shiraz-Viognier</td>\n",
              "      <td>Torbreck</td>\n",
              "    </tr>\n",
              "    <tr>\n",
              "      <th>365</th>\n",
              "      <td>Australia</td>\n",
              "      <td>The Taylor family selected Clare Valley for it...</td>\n",
              "      <td>St. Andrews Single Vineyard Release</td>\n",
              "      <td>95</td>\n",
              "      <td>60.0</td>\n",
              "      <td>South Australia</td>\n",
              "      <td>Clare Valley</td>\n",
              "      <td>NaN</td>\n",
              "      <td>Joe Czerwinski</td>\n",
              "      <td>@JoeCz</td>\n",
              "      <td>Wakefield 2013 St. Andrews Single Vineyard Rel...</td>\n",
              "      <td>Shiraz</td>\n",
              "      <td>Wakefield</td>\n",
              "    </tr>\n",
              "    <tr>\n",
              "      <th>14354</th>\n",
              "      <td>Australia</td>\n",
              "      <td>This wine's concentrated dark fruit shows in t...</td>\n",
              "      <td>Old Vine</td>\n",
              "      <td>95</td>\n",
              "      <td>60.0</td>\n",
              "      <td>South Australia</td>\n",
              "      <td>Barossa Valley</td>\n",
              "      <td>NaN</td>\n",
              "      <td>Joe Czerwinski</td>\n",
              "      <td>@JoeCz</td>\n",
              "      <td>Kaesler 2006 Old Vine Shiraz (Barossa Valley)</td>\n",
              "      <td>Shiraz</td>\n",
              "      <td>Kaesler</td>\n",
              "    </tr>\n",
              "    <tr>\n",
              "      <th>16538</th>\n",
              "      <td>Australia</td>\n",
              "      <td>Rich, dense and intense, this is a big, muscul...</td>\n",
              "      <td>The Family Tree</td>\n",
              "      <td>95</td>\n",
              "      <td>65.0</td>\n",
              "      <td>South Australia</td>\n",
              "      <td>Barossa Valley</td>\n",
              "      <td>NaN</td>\n",
              "      <td>Joe Czerwinski</td>\n",
              "      <td>@JoeCz</td>\n",
              "      <td>Lambert 2013 The Family Tree Shiraz (Barossa V...</td>\n",
              "      <td>Shiraz</td>\n",
              "      <td>Lambert</td>\n",
              "    </tr>\n",
              "    <tr>\n",
              "      <th>28573</th>\n",
              "      <td>Australia</td>\n",
              "      <td>Astralis has become one of Australia's top col...</td>\n",
              "      <td>Astralis</td>\n",
              "      <td>95</td>\n",
              "      <td>350.0</td>\n",
              "      <td>South Australia</td>\n",
              "      <td>Clarendon</td>\n",
              "      <td>NaN</td>\n",
              "      <td>Joe Czerwinski</td>\n",
              "      <td>@JoeCz</td>\n",
              "      <td>Clarendon Hills 2005 Astralis Syrah (Clarendon)</td>\n",
              "      <td>Syrah</td>\n",
              "      <td>Clarendon Hills</td>\n",
              "    </tr>\n",
              "    <tr>\n",
              "      <th>34502</th>\n",
              "      <td>Australia</td>\n",
              "      <td>This prodigious wine showcases Barossa's abili...</td>\n",
              "      <td>The Relic</td>\n",
              "      <td>98</td>\n",
              "      <td>135.0</td>\n",
              "      <td>South Australia</td>\n",
              "      <td>Barossa Valley</td>\n",
              "      <td>NaN</td>\n",
              "      <td>Joe Czerwinski</td>\n",
              "      <td>@JoeCz</td>\n",
              "      <td>Standish 2006 The Relic Shiraz (Barossa Valley)</td>\n",
              "      <td>Shiraz</td>\n",
              "      <td>Standish</td>\n",
              "    </tr>\n",
              "    <tr>\n",
              "      <th>34506</th>\n",
              "      <td>Australia</td>\n",
              "      <td>If Standish's Relic is the feminine side of Sh...</td>\n",
              "      <td>The Standish Single Vineyard</td>\n",
              "      <td>96</td>\n",
              "      <td>135.0</td>\n",
              "      <td>South Australia</td>\n",
              "      <td>Barossa Valley</td>\n",
              "      <td>NaN</td>\n",
              "      <td>Joe Czerwinski</td>\n",
              "      <td>@JoeCz</td>\n",
              "      <td>Standish 2005 The Standish Single Vineyard Shi...</td>\n",
              "      <td>Shiraz</td>\n",
              "      <td>Standish</td>\n",
              "    </tr>\n",
              "    <tr>\n",
              "      <th>38988</th>\n",
              "      <td>Australia</td>\n",
              "      <td>Penfolds Bin 707 has leapt in quality over the...</td>\n",
              "      <td>Bin 707</td>\n",
              "      <td>95</td>\n",
              "      <td>200.0</td>\n",
              "      <td>South Australia</td>\n",
              "      <td>South Australia</td>\n",
              "      <td>NaN</td>\n",
              "      <td>Joe Czerwinski</td>\n",
              "      <td>@JoeCz</td>\n",
              "      <td>Penfolds 2009 Bin 707 Cabernet Sauvignon (Sout...</td>\n",
              "      <td>Cabernet Sauvignon</td>\n",
              "      <td>Penfolds</td>\n",
              "    </tr>\n",
              "    <tr>\n",
              "      <th>39059</th>\n",
              "      <td>Australia</td>\n",
              "      <td>The Taylor family selected Clare Valley for it...</td>\n",
              "      <td>St. Andrews Single Vineyard Release</td>\n",
              "      <td>95</td>\n",
              "      <td>60.0</td>\n",
              "      <td>South Australia</td>\n",
              "      <td>Clare Valley</td>\n",
              "      <td>NaN</td>\n",
              "      <td>Joe Czerwinski</td>\n",
              "      <td>@JoeCz</td>\n",
              "      <td>Wakefield 2013 St. Andrews Single Vineyard Rel...</td>\n",
              "      <td>Shiraz</td>\n",
              "      <td>Wakefield</td>\n",
              "    </tr>\n",
              "    <tr>\n",
              "      <th>39961</th>\n",
              "      <td>Australia</td>\n",
              "      <td>As unevolved as they are, the dense and multil...</td>\n",
              "      <td>Grange</td>\n",
              "      <td>96</td>\n",
              "      <td>185.0</td>\n",
              "      <td>South Australia</td>\n",
              "      <td>South Australia</td>\n",
              "      <td>NaN</td>\n",
              "      <td>NaN</td>\n",
              "      <td>NaN</td>\n",
              "      <td>Penfolds 1996 Grange Shiraz (South Australia)</td>\n",
              "      <td>Shiraz</td>\n",
              "      <td>Penfolds</td>\n",
              "    </tr>\n",
              "    <tr>\n",
              "      <th>39962</th>\n",
              "      <td>Australia</td>\n",
              "      <td>Seamless luxury from stem to stern, this ‘baby...</td>\n",
              "      <td>RWT</td>\n",
              "      <td>95</td>\n",
              "      <td>70.0</td>\n",
              "      <td>South Australia</td>\n",
              "      <td>Barossa Valley</td>\n",
              "      <td>NaN</td>\n",
              "      <td>NaN</td>\n",
              "      <td>NaN</td>\n",
              "      <td>Penfolds 1998 RWT Shiraz (Barossa Valley)</td>\n",
              "      <td>Shiraz</td>\n",
              "      <td>Penfolds</td>\n",
              "    </tr>\n",
              "    <tr>\n",
              "      <th>45809</th>\n",
              "      <td>Australia</td>\n",
              "      <td>The 2007 Astralis impresses for its combinatio...</td>\n",
              "      <td>Astralis</td>\n",
              "      <td>95</td>\n",
              "      <td>225.0</td>\n",
              "      <td>South Australia</td>\n",
              "      <td>Clarendon</td>\n",
              "      <td>NaN</td>\n",
              "      <td>Joe Czerwinski</td>\n",
              "      <td>@JoeCz</td>\n",
              "      <td>Clarendon Hills 2007 Astralis Syrah (Clarendon)</td>\n",
              "      <td>Syrah</td>\n",
              "      <td>Clarendon Hills</td>\n",
              "    </tr>\n",
              "    <tr>\n",
              "      <th>56953</th>\n",
              "      <td>Australia</td>\n",
              "      <td>This inky, embryonic wine deserves to be cella...</td>\n",
              "      <td>Grange</td>\n",
              "      <td>99</td>\n",
              "      <td>850.0</td>\n",
              "      <td>South Australia</td>\n",
              "      <td>South Australia</td>\n",
              "      <td>NaN</td>\n",
              "      <td>Joe Czerwinski</td>\n",
              "      <td>@JoeCz</td>\n",
              "      <td>Penfolds 2010 Grange Shiraz (South Australia)</td>\n",
              "      <td>Shiraz</td>\n",
              "      <td>Penfolds</td>\n",
              "    </tr>\n",
              "    <tr>\n",
              "      <th>56956</th>\n",
              "      <td>Australia</td>\n",
              "      <td>You may have to scour the country to secure so...</td>\n",
              "      <td>Andelmonde</td>\n",
              "      <td>97</td>\n",
              "      <td>95.0</td>\n",
              "      <td>South Australia</td>\n",
              "      <td>Barossa Valley</td>\n",
              "      <td>NaN</td>\n",
              "      <td>Joe Czerwinski</td>\n",
              "      <td>@JoeCz</td>\n",
              "      <td>Standish 2012 Andelmonde Shiraz (Barossa Valley)</td>\n",
              "      <td>Shiraz</td>\n",
              "      <td>Standish</td>\n",
              "    </tr>\n",
              "    <tr>\n",
              "      <th>56957</th>\n",
              "      <td>Australia</td>\n",
              "      <td>Thorn Clarke has taken its Shiraz to a new lev...</td>\n",
              "      <td>Ron Thorn Single Vineyard</td>\n",
              "      <td>96</td>\n",
              "      <td>89.0</td>\n",
              "      <td>South Australia</td>\n",
              "      <td>Barossa</td>\n",
              "      <td>NaN</td>\n",
              "      <td>Joe Czerwinski</td>\n",
              "      <td>@JoeCz</td>\n",
              "      <td>Thorn Clarke 2012 Ron Thorn Single Vineyard Sh...</td>\n",
              "      <td>Shiraz</td>\n",
              "      <td>Thorn Clarke</td>\n",
              "    </tr>\n",
              "    <tr>\n",
              "      <th>56959</th>\n",
              "      <td>Australia</td>\n",
              "      <td>Is this the Yin to Grange's Yang? The wines ar...</td>\n",
              "      <td>Hill of Grace</td>\n",
              "      <td>96</td>\n",
              "      <td>820.0</td>\n",
              "      <td>South Australia</td>\n",
              "      <td>Eden Valley</td>\n",
              "      <td>NaN</td>\n",
              "      <td>Joe Czerwinski</td>\n",
              "      <td>@JoeCz</td>\n",
              "      <td>Henschke 2010 Hill of Grace Shiraz (Eden Valley)</td>\n",
              "      <td>Shiraz</td>\n",
              "      <td>Henschke</td>\n",
              "    </tr>\n",
              "    <tr>\n",
              "      <th>59977</th>\n",
              "      <td>Australia</td>\n",
              "      <td>This is a top example of the classic Australia...</td>\n",
              "      <td>The Peake</td>\n",
              "      <td>96</td>\n",
              "      <td>150.0</td>\n",
              "      <td>South Australia</td>\n",
              "      <td>McLaren Vale</td>\n",
              "      <td>NaN</td>\n",
              "      <td>Joe Czerwinski</td>\n",
              "      <td>@JoeCz</td>\n",
              "      <td>Hickinbotham 2013 The Peake Cabernet-Shiraz (M...</td>\n",
              "      <td>Cabernet-Shiraz</td>\n",
              "      <td>Hickinbotham</td>\n",
              "    </tr>\n",
              "    <tr>\n",
              "      <th>59984</th>\n",
              "      <td>Australia</td>\n",
              "      <td>This is a throwback to those brash, flavor-exu...</td>\n",
              "      <td>One</td>\n",
              "      <td>95</td>\n",
              "      <td>95.0</td>\n",
              "      <td>South Australia</td>\n",
              "      <td>Langhorne Creek</td>\n",
              "      <td>NaN</td>\n",
              "      <td>Joe Czerwinski</td>\n",
              "      <td>@JoeCz</td>\n",
              "      <td>Heartland 2013 One Red (Langhorne Creek)</td>\n",
              "      <td>Red Blend</td>\n",
              "      <td>Heartland</td>\n",
              "    </tr>\n",
              "    <tr>\n",
              "      <th>67096</th>\n",
              "      <td>Australia</td>\n",
              "      <td>Just a tiny serving of this dark nectar will l...</td>\n",
              "      <td>Calliope Rare</td>\n",
              "      <td>98</td>\n",
              "      <td>86.0</td>\n",
              "      <td>Victoria</td>\n",
              "      <td>Rutherglen</td>\n",
              "      <td>NaN</td>\n",
              "      <td>Joe Czerwinski</td>\n",
              "      <td>@JoeCz</td>\n",
              "      <td>R.L. Buller &amp; Son NV Calliope Rare Tokay (Ruth...</td>\n",
              "      <td>Tokay</td>\n",
              "      <td>R.L. Buller &amp; Son</td>\n",
              "    </tr>\n",
              "    <tr>\n",
              "      <th>67101</th>\n",
              "      <td>Australia</td>\n",
              "      <td>This Muscat is the color of dark coffee, with ...</td>\n",
              "      <td>Rare</td>\n",
              "      <td>95</td>\n",
              "      <td>300.0</td>\n",
              "      <td>Victoria</td>\n",
              "      <td>Rutherglen</td>\n",
              "      <td>NaN</td>\n",
              "      <td>Joe Czerwinski</td>\n",
              "      <td>@JoeCz</td>\n",
              "      <td>Chambers Rosewood Vineyards NV Rare Muscat (Ru...</td>\n",
              "      <td>Muscat</td>\n",
              "      <td>Chambers Rosewood Vineyards</td>\n",
              "    </tr>\n",
              "    <tr>\n",
              "      <th>76392</th>\n",
              "      <td>Australia</td>\n",
              "      <td>When the alcohol levels are reined in to appro...</td>\n",
              "      <td>Georgia's Paddock</td>\n",
              "      <td>95</td>\n",
              "      <td>85.0</td>\n",
              "      <td>Victoria</td>\n",
              "      <td>Heathcote</td>\n",
              "      <td>NaN</td>\n",
              "      <td>Joe Czerwinski</td>\n",
              "      <td>@JoeCz</td>\n",
              "      <td>Jasper Hill 2012 Georgia's Paddock Shiraz (Hea...</td>\n",
              "      <td>Shiraz</td>\n",
              "      <td>Jasper Hill</td>\n",
              "    </tr>\n",
              "    <tr>\n",
              "      <th>77028</th>\n",
              "      <td>Australia</td>\n",
              "      <td>This has all the size and weight you've come t...</td>\n",
              "      <td>Grange</td>\n",
              "      <td>98</td>\n",
              "      <td>850.0</td>\n",
              "      <td>South Australia</td>\n",
              "      <td>South Australia</td>\n",
              "      <td>NaN</td>\n",
              "      <td>Joe Czerwinski</td>\n",
              "      <td>@JoeCz</td>\n",
              "      <td>Penfolds 2008 Grange Shiraz (South Australia)</td>\n",
              "      <td>Shiraz</td>\n",
              "      <td>Penfolds</td>\n",
              "    </tr>\n",
              "    <tr>\n",
              "      <th>77036</th>\n",
              "      <td>Australia</td>\n",
              "      <td>RWT (unromantically derived from “Red Wine Tri...</td>\n",
              "      <td>RWT</td>\n",
              "      <td>96</td>\n",
              "      <td>150.0</td>\n",
              "      <td>South Australia</td>\n",
              "      <td>Barossa Valley</td>\n",
              "      <td>NaN</td>\n",
              "      <td>Joe Czerwinski</td>\n",
              "      <td>@JoeCz</td>\n",
              "      <td>Penfolds 2009 RWT Shiraz (Barossa Valley)</td>\n",
              "      <td>Shiraz</td>\n",
              "      <td>Penfolds</td>\n",
              "    </tr>\n",
              "    <tr>\n",
              "      <th>77037</th>\n",
              "      <td>Australia</td>\n",
              "      <td>Winemaker Dave Powell is no longer with Torbre...</td>\n",
              "      <td>RunRig</td>\n",
              "      <td>96</td>\n",
              "      <td>225.0</td>\n",
              "      <td>South Australia</td>\n",
              "      <td>Barossa Valley</td>\n",
              "      <td>NaN</td>\n",
              "      <td>Joe Czerwinski</td>\n",
              "      <td>@JoeCz</td>\n",
              "      <td>Torbreck 2007 RunRig Shiraz-Viognier (Barossa ...</td>\n",
              "      <td>Shiraz-Viognier</td>\n",
              "      <td>Torbreck</td>\n",
              "    </tr>\n",
              "    <tr>\n",
              "      <th>77042</th>\n",
              "      <td>Australia</td>\n",
              "      <td>This is likely the most ageworthy Shiraz winem...</td>\n",
              "      <td>Eligo</td>\n",
              "      <td>95</td>\n",
              "      <td>100.0</td>\n",
              "      <td>South Australia</td>\n",
              "      <td>Barossa</td>\n",
              "      <td>NaN</td>\n",
              "      <td>Joe Czerwinski</td>\n",
              "      <td>@JoeCz</td>\n",
              "      <td>John Duval Wines 2010 Eligo Shiraz (Barossa)</td>\n",
              "      <td>Shiraz</td>\n",
              "      <td>John Duval Wines</td>\n",
              "    </tr>\n",
              "    <tr>\n",
              "      <th>77044</th>\n",
              "      <td>Australia</td>\n",
              "      <td>The fruit for this offering comes from the Gre...</td>\n",
              "      <td>R Reserve</td>\n",
              "      <td>95</td>\n",
              "      <td>105.0</td>\n",
              "      <td>South Australia</td>\n",
              "      <td>Barossa Valley</td>\n",
              "      <td>NaN</td>\n",
              "      <td>Joe Czerwinski</td>\n",
              "      <td>@JoeCz</td>\n",
              "      <td>Kilikanoon 2009 R Reserve Shiraz (Barossa Valley)</td>\n",
              "      <td>Shiraz</td>\n",
              "      <td>Kilikanoon</td>\n",
              "    </tr>\n",
              "    <tr>\n",
              "      <th>77046</th>\n",
              "      <td>Australia</td>\n",
              "      <td>With aromas and flavors that range widely from...</td>\n",
              "      <td>The Factor</td>\n",
              "      <td>95</td>\n",
              "      <td>125.0</td>\n",
              "      <td>South Australia</td>\n",
              "      <td>Barossa Valley</td>\n",
              "      <td>NaN</td>\n",
              "      <td>Joe Czerwinski</td>\n",
              "      <td>@JoeCz</td>\n",
              "      <td>Torbreck 2007 The Factor Shiraz (Barossa Valley)</td>\n",
              "      <td>Shiraz</td>\n",
              "      <td>Torbreck</td>\n",
              "    </tr>\n",
              "    <tr>\n",
              "      <th>83357</th>\n",
              "      <td>Australia</td>\n",
              "      <td>A throwback to the monster Shiraz style of old...</td>\n",
              "      <td>Grange</td>\n",
              "      <td>96</td>\n",
              "      <td>500.0</td>\n",
              "      <td>South Australia</td>\n",
              "      <td>South Australia</td>\n",
              "      <td>NaN</td>\n",
              "      <td>Joe Czerwinski</td>\n",
              "      <td>@JoeCz</td>\n",
              "      <td>Penfolds 2004 Grange Shiraz (South Australia)</td>\n",
              "      <td>Shiraz</td>\n",
              "      <td>Penfolds</td>\n",
              "    </tr>\n",
              "    <tr>\n",
              "      <th>84815</th>\n",
              "      <td>Australia</td>\n",
              "      <td>The Factor is always one of Torbreck's biggest...</td>\n",
              "      <td>The Factor</td>\n",
              "      <td>95</td>\n",
              "      <td>125.0</td>\n",
              "      <td>South Australia</td>\n",
              "      <td>Barossa</td>\n",
              "      <td>NaN</td>\n",
              "      <td>Joe Czerwinski</td>\n",
              "      <td>@JoeCz</td>\n",
              "      <td>Torbreck 2012 The Factor Shiraz (Barossa)</td>\n",
              "      <td>Shiraz</td>\n",
              "      <td>Torbreck</td>\n",
              "    </tr>\n",
              "    <tr>\n",
              "      <th>84816</th>\n",
              "      <td>Australia</td>\n",
              "      <td>Nashwauk is Kaesler's McLaren Vale project, fi...</td>\n",
              "      <td>Beacon</td>\n",
              "      <td>95</td>\n",
              "      <td>145.0</td>\n",
              "      <td>South Australia</td>\n",
              "      <td>McLaren Vale</td>\n",
              "      <td>NaN</td>\n",
              "      <td>Joe Czerwinski</td>\n",
              "      <td>@JoeCz</td>\n",
              "      <td>Nashwauk 2010 Beacon Shiraz (McLaren Vale)</td>\n",
              "      <td>Shiraz</td>\n",
              "      <td>Nashwauk</td>\n",
              "    </tr>\n",
              "    <tr>\n",
              "      <th>87128</th>\n",
              "      <td>Australia</td>\n",
              "      <td>This full-bodied, muscular Shiraz is built for...</td>\n",
              "      <td>Amery Vineyard Block 6</td>\n",
              "      <td>96</td>\n",
              "      <td>120.0</td>\n",
              "      <td>South Australia</td>\n",
              "      <td>McLaren Vale</td>\n",
              "      <td>NaN</td>\n",
              "      <td>Joe Czerwinski</td>\n",
              "      <td>@JoeCz</td>\n",
              "      <td>Kay Brothers 2012 Amery Vineyard Block 6 Shira...</td>\n",
              "      <td>Shiraz</td>\n",
              "      <td>Kay Brothers</td>\n",
              "    </tr>\n",
              "    <tr>\n",
              "      <th>87137</th>\n",
              "      <td>Australia</td>\n",
              "      <td>Perhaps the best young wine I've tasted from M...</td>\n",
              "      <td>NaN</td>\n",
              "      <td>95</td>\n",
              "      <td>84.0</td>\n",
              "      <td>Western Australia</td>\n",
              "      <td>Margaret River</td>\n",
              "      <td>NaN</td>\n",
              "      <td>Joe Czerwinski</td>\n",
              "      <td>@JoeCz</td>\n",
              "      <td>Moss Wood 2011 Cabernet Sauvignon (Margaret Ri...</td>\n",
              "      <td>Cabernet Sauvignon</td>\n",
              "      <td>Moss Wood</td>\n",
              "    </tr>\n",
              "    <tr>\n",
              "      <th>87143</th>\n",
              "      <td>Australia</td>\n",
              "      <td>This is wonderfully complex and aromatic, with...</td>\n",
              "      <td>St. Andrews Single Vineyard Release</td>\n",
              "      <td>95</td>\n",
              "      <td>60.0</td>\n",
              "      <td>South Australia</td>\n",
              "      <td>Clare Valley</td>\n",
              "      <td>NaN</td>\n",
              "      <td>Joe Czerwinski</td>\n",
              "      <td>@JoeCz</td>\n",
              "      <td>Wakefield 2012 St. Andrews Single Vineyard Rel...</td>\n",
              "      <td>Shiraz</td>\n",
              "      <td>Wakefield</td>\n",
              "    </tr>\n",
              "    <tr>\n",
              "      <th>91851</th>\n",
              "      <td>New Zealand</td>\n",
              "      <td>This full-bodied, richly tannic wine delivers....</td>\n",
              "      <td>Homage</td>\n",
              "      <td>95</td>\n",
              "      <td>100.0</td>\n",
              "      <td>Hawke's Bay</td>\n",
              "      <td>NaN</td>\n",
              "      <td>NaN</td>\n",
              "      <td>Joe Czerwinski</td>\n",
              "      <td>@JoeCz</td>\n",
              "      <td>Trinity Hill 2013 Homage Syrah (Hawke's Bay)</td>\n",
              "      <td>Syrah</td>\n",
              "      <td>Trinity Hill</td>\n",
              "    </tr>\n",
              "    <tr>\n",
              "      <th>98386</th>\n",
              "      <td>Australia</td>\n",
              "      <td>One of the more approachable of the d'Arenberg...</td>\n",
              "      <td>Little Venice Single Vineyard</td>\n",
              "      <td>95</td>\n",
              "      <td>85.0</td>\n",
              "      <td>South Australia</td>\n",
              "      <td>McLaren Vale</td>\n",
              "      <td>NaN</td>\n",
              "      <td>Joe Czerwinski</td>\n",
              "      <td>@JoeCz</td>\n",
              "      <td>D'Arenberg 2010 Little Venice Single Vineyard ...</td>\n",
              "      <td>Shiraz</td>\n",
              "      <td>D'Arenberg</td>\n",
              "    </tr>\n",
              "    <tr>\n",
              "      <th>99318</th>\n",
              "      <td>Australia</td>\n",
              "      <td>From vines planted in 1912, this has been an i...</td>\n",
              "      <td>Mount Edelstone Vineyard</td>\n",
              "      <td>95</td>\n",
              "      <td>200.0</td>\n",
              "      <td>South Australia</td>\n",
              "      <td>Eden Valley</td>\n",
              "      <td>NaN</td>\n",
              "      <td>Joe Czerwinski</td>\n",
              "      <td>@JoeCz</td>\n",
              "      <td>Henschke 2014 Mount Edelstone Vineyard Shiraz ...</td>\n",
              "      <td>Shiraz</td>\n",
              "      <td>Henschke</td>\n",
              "    </tr>\n",
              "    <tr>\n",
              "      <th>99330</th>\n",
              "      <td>Australia</td>\n",
              "      <td>This Cabernet equivalent to Grange has explode...</td>\n",
              "      <td>Bin 707</td>\n",
              "      <td>95</td>\n",
              "      <td>500.0</td>\n",
              "      <td>South Australia</td>\n",
              "      <td>South Australia</td>\n",
              "      <td>NaN</td>\n",
              "      <td>Joe Czerwinski</td>\n",
              "      <td>@JoeCz</td>\n",
              "      <td>Penfolds 2014 Bin 707 Cabernet Sauvignon (Sout...</td>\n",
              "      <td>Cabernet Sauvignon</td>\n",
              "      <td>Penfolds</td>\n",
              "    </tr>\n",
              "    <tr>\n",
              "      <th>99340</th>\n",
              "      <td>Australia</td>\n",
              "      <td>This rich, opulent wine carries its massive oa...</td>\n",
              "      <td>Les Amis</td>\n",
              "      <td>95</td>\n",
              "      <td>185.0</td>\n",
              "      <td>South Australia</td>\n",
              "      <td>Barossa Valley</td>\n",
              "      <td>NaN</td>\n",
              "      <td>Joe Czerwinski</td>\n",
              "      <td>@JoeCz</td>\n",
              "      <td>Torbreck 2013 Les Amis Grenache (Barossa Valley)</td>\n",
              "      <td>Grenache</td>\n",
              "      <td>Torbreck</td>\n",
              "    </tr>\n",
              "    <tr>\n",
              "      <th>109427</th>\n",
              "      <td>Australia</td>\n",
              "      <td>This wine is dark brown in hue with a greenish...</td>\n",
              "      <td>Rare</td>\n",
              "      <td>99</td>\n",
              "      <td>300.0</td>\n",
              "      <td>Victoria</td>\n",
              "      <td>Rutherglen</td>\n",
              "      <td>NaN</td>\n",
              "      <td>Joe Czerwinski</td>\n",
              "      <td>@JoeCz</td>\n",
              "      <td>Chambers Rosewood Vineyards NV Rare Muscadelle...</td>\n",
              "      <td>Muscadelle</td>\n",
              "      <td>Chambers Rosewood Vineyards</td>\n",
              "    </tr>\n",
              "    <tr>\n",
              "      <th>109434</th>\n",
              "      <td>Australia</td>\n",
              "      <td>D'Arenberg's lineup of single-vineyard Shiraze...</td>\n",
              "      <td>The Swinging Malaysian Single Vineyard</td>\n",
              "      <td>96</td>\n",
              "      <td>85.0</td>\n",
              "      <td>South Australia</td>\n",
              "      <td>McLaren Vale</td>\n",
              "      <td>NaN</td>\n",
              "      <td>Joe Czerwinski</td>\n",
              "      <td>@JoeCz</td>\n",
              "      <td>D'Arenberg 2010 The Swinging Malaysian Single ...</td>\n",
              "      <td>Shiraz</td>\n",
              "      <td>D'Arenberg</td>\n",
              "    </tr>\n",
              "    <tr>\n",
              "      <th>122421</th>\n",
              "      <td>Australia</td>\n",
              "      <td>Despite this wine's weight and richness, it re...</td>\n",
              "      <td>Amon-Ra Unfiltered</td>\n",
              "      <td>96</td>\n",
              "      <td>110.0</td>\n",
              "      <td>South Australia</td>\n",
              "      <td>Barossa Valley</td>\n",
              "      <td>NaN</td>\n",
              "      <td>Joe Czerwinski</td>\n",
              "      <td>@JoeCz</td>\n",
              "      <td>Glaetzer 2010 Amon-Ra Unfiltered Shiraz (Baros...</td>\n",
              "      <td>Shiraz</td>\n",
              "      <td>Glaetzer</td>\n",
              "    </tr>\n",
              "    <tr>\n",
              "      <th>122430</th>\n",
              "      <td>Australia</td>\n",
              "      <td>These blends are traditional in Australia—they...</td>\n",
              "      <td>Anaperenna</td>\n",
              "      <td>95</td>\n",
              "      <td>80.0</td>\n",
              "      <td>South Australia</td>\n",
              "      <td>Barossa Valley</td>\n",
              "      <td>NaN</td>\n",
              "      <td>Joe Czerwinski</td>\n",
              "      <td>@JoeCz</td>\n",
              "      <td>Glaetzer 2010 Anaperenna Shiraz-Cabernet Sauvi...</td>\n",
              "      <td>Shiraz-Cabernet Sauvignon</td>\n",
              "      <td>Glaetzer</td>\n",
              "    </tr>\n",
              "    <tr>\n",
              "      <th>122507</th>\n",
              "      <td>New Zealand</td>\n",
              "      <td>This blend of Cabernet Sauvignon (62.5%), Merl...</td>\n",
              "      <td>SQM Gimblett Gravels Cabernets/Merlot</td>\n",
              "      <td>95</td>\n",
              "      <td>79.0</td>\n",
              "      <td>Hawke's Bay</td>\n",
              "      <td>NaN</td>\n",
              "      <td>NaN</td>\n",
              "      <td>Joe Czerwinski</td>\n",
              "      <td>@JoeCz</td>\n",
              "      <td>Squawking Magpie 2014 SQM Gimblett Gravels Cab...</td>\n",
              "      <td>Bordeaux-style Red Blend</td>\n",
              "      <td>Squawking Magpie</td>\n",
              "    </tr>\n",
              "    <tr>\n",
              "      <th>122939</th>\n",
              "      <td>Australia</td>\n",
              "      <td>Full-bodied and plush yet vibrant and imbued w...</td>\n",
              "      <td>The Factor</td>\n",
              "      <td>98</td>\n",
              "      <td>125.0</td>\n",
              "      <td>South Australia</td>\n",
              "      <td>Barossa Valley</td>\n",
              "      <td>NaN</td>\n",
              "      <td>Joe Czerwinski</td>\n",
              "      <td>@JoeCz</td>\n",
              "      <td>Torbreck 2013 The Factor Shiraz (Barossa Valley)</td>\n",
              "      <td>Shiraz</td>\n",
              "      <td>Torbreck</td>\n",
              "    </tr>\n",
              "  </tbody>\n",
              "</table>\n",
              "</div>"
            ],
            "text/plain": [
              "            country  ...                       winery\n",
              "345       Australia  ...  Chambers Rosewood Vineyards\n",
              "346       Australia  ...  Chambers Rosewood Vineyards\n",
              "348       Australia  ...  Chambers Rosewood Vineyards\n",
              "349       Australia  ...                     Torbreck\n",
              "356       Australia  ...                  Jasper Hill\n",
              "360       Australia  ...                     Torbreck\n",
              "365       Australia  ...                    Wakefield\n",
              "14354     Australia  ...                      Kaesler\n",
              "16538     Australia  ...                      Lambert\n",
              "28573     Australia  ...              Clarendon Hills\n",
              "34502     Australia  ...                     Standish\n",
              "34506     Australia  ...                     Standish\n",
              "38988     Australia  ...                     Penfolds\n",
              "39059     Australia  ...                    Wakefield\n",
              "39961     Australia  ...                     Penfolds\n",
              "39962     Australia  ...                     Penfolds\n",
              "45809     Australia  ...              Clarendon Hills\n",
              "56953     Australia  ...                     Penfolds\n",
              "56956     Australia  ...                     Standish\n",
              "56957     Australia  ...                 Thorn Clarke\n",
              "56959     Australia  ...                     Henschke\n",
              "59977     Australia  ...                 Hickinbotham\n",
              "59984     Australia  ...                    Heartland\n",
              "67096     Australia  ...            R.L. Buller & Son\n",
              "67101     Australia  ...  Chambers Rosewood Vineyards\n",
              "76392     Australia  ...                  Jasper Hill\n",
              "77028     Australia  ...                     Penfolds\n",
              "77036     Australia  ...                     Penfolds\n",
              "77037     Australia  ...                     Torbreck\n",
              "77042     Australia  ...             John Duval Wines\n",
              "77044     Australia  ...                   Kilikanoon\n",
              "77046     Australia  ...                     Torbreck\n",
              "83357     Australia  ...                     Penfolds\n",
              "84815     Australia  ...                     Torbreck\n",
              "84816     Australia  ...                     Nashwauk\n",
              "87128     Australia  ...                 Kay Brothers\n",
              "87137     Australia  ...                    Moss Wood\n",
              "87143     Australia  ...                    Wakefield\n",
              "91851   New Zealand  ...                 Trinity Hill\n",
              "98386     Australia  ...                   D'Arenberg\n",
              "99318     Australia  ...                     Henschke\n",
              "99330     Australia  ...                     Penfolds\n",
              "99340     Australia  ...                     Torbreck\n",
              "109427    Australia  ...  Chambers Rosewood Vineyards\n",
              "109434    Australia  ...                   D'Arenberg\n",
              "122421    Australia  ...                     Glaetzer\n",
              "122430    Australia  ...                     Glaetzer\n",
              "122507  New Zealand  ...             Squawking Magpie\n",
              "122939    Australia  ...                     Torbreck\n",
              "\n",
              "[49 rows x 13 columns]"
            ]
          },
          "metadata": {
            "tags": []
          },
          "execution_count": 60
        }
      ]
    },
    {
      "cell_type": "markdown",
      "metadata": {
        "id": "JfZH1XiLhjIf"
      },
      "source": [
        "# P2.10 What is the data type of the points column in the dataset?"
      ]
    },
    {
      "cell_type": "code",
      "metadata": {
        "colab": {
          "base_uri": "https://localhost:8080/"
        },
        "id": "83XBVQ9MhjIf",
        "outputId": "2582c55c-2800-4331-c0f8-e240558c5855"
      },
      "source": [
        "pointtype = reviews.points.dtype\n",
        "pointtype"
      ],
      "execution_count": null,
      "outputs": [
        {
          "output_type": "execute_result",
          "data": {
            "text/plain": [
              "dtype('int64')"
            ]
          },
          "metadata": {
            "tags": []
          },
          "execution_count": 62
        }
      ]
    },
    {
      "cell_type": "markdown",
      "metadata": {
        "id": "ieFrsXUPhjIf"
      },
      "source": [
        "# P2.11 Create a Series from entries in the points column, but convert the entries to strings."
      ]
    },
    {
      "cell_type": "code",
      "metadata": {
        "colab": {
          "base_uri": "https://localhost:8080/"
        },
        "id": "KLeU9Pi_hjIf",
        "outputId": "c3cdfcc1-14fb-43e2-fe0f-8a84022a8faa"
      },
      "source": [
        "# Hint: Convert a column of one type to another by using the astype function.\n",
        "point_strings = reviews.points.astype(str)\n",
        "point_strings"
      ],
      "execution_count": null,
      "outputs": [
        {
          "output_type": "execute_result",
          "data": {
            "text/plain": [
              "0         87\n",
              "1         87\n",
              "2         87\n",
              "3         87\n",
              "4         87\n",
              "          ..\n",
              "129966    90\n",
              "129967    90\n",
              "129968    90\n",
              "129969    90\n",
              "129970    90\n",
              "Name: points, Length: 129971, dtype: object"
            ]
          },
          "metadata": {
            "tags": []
          },
          "execution_count": 63
        }
      ]
    },
    {
      "cell_type": "markdown",
      "metadata": {
        "id": "NjO_S99UhjIf"
      },
      "source": [
        "# P2.12 Sometimes the price column is null. How many reviews in the dataset are missing a price?"
      ]
    },
    {
      "cell_type": "code",
      "metadata": {
        "colab": {
          "base_uri": "https://localhost:8080/"
        },
        "id": "TJqnc2ghhjIf",
        "outputId": "24ca3298-574a-4ad9-d103-18aac75bb9a1"
      },
      "source": [
        "null_price = reviews.price.isnull().sum()\n",
        "null_price"
      ],
      "execution_count": null,
      "outputs": [
        {
          "output_type": "execute_result",
          "data": {
            "text/plain": [
              "8996"
            ]
          },
          "metadata": {
            "tags": []
          },
          "execution_count": 91
        }
      ]
    },
    {
      "cell_type": "markdown",
      "metadata": {
        "id": "xuncP2qnhjIf"
      },
      "source": [
        "# P2.13 What are the most common wine-producing regions? Create a Series counting the number of times each value occurs in the region_1 field. This field is often missing data, so replace missing values with Unknown. Sort in descending order. Your output should look something like this:"
      ]
    },
    {
      "cell_type": "code",
      "metadata": {
        "colab": {
          "base_uri": "https://localhost:8080/"
        },
        "id": "IUsEDBc1hjIg",
        "outputId": "20da87e3-3de4-4625-fcf6-d9a3247b6f3b"
      },
      "source": [
        "reviews_per_region = reviews.region_1.fillna('Unknown').value_counts().sort_values(ascending = False)\n",
        "reviews_per_region"
      ],
      "execution_count": null,
      "outputs": [
        {
          "output_type": "execute_result",
          "data": {
            "text/plain": [
              "Unknown                    21247\n",
              "Napa Valley                 4480\n",
              "Columbia Valley (WA)        4124\n",
              "Russian River Valley        3091\n",
              "California                  2629\n",
              "                           ...  \n",
              "Mâcon-Pierreclos               1\n",
              "Sonoma-Napa-Mendocino          1\n",
              "Barossa-Langhorne Creek        1\n",
              "Geographe                      1\n",
              "Dolcetto di Monferrato         1\n",
              "Name: region_1, Length: 1230, dtype: int64"
            ]
          },
          "metadata": {
            "tags": []
          },
          "execution_count": 93
        }
      ]
    },
    {
      "cell_type": "markdown",
      "metadata": {
        "id": "RrgiDb6JhjIg"
      },
      "source": [
        "# P2.14 Scatter plots are commonly used to map the relationship between numerical variables. visualize the correlation between variables (points and price) using a scatter plot.\n",
        "# Add Title and Axis Labels to yout plot"
      ]
    },
    {
      "cell_type": "code",
      "metadata": {
        "colab": {
          "base_uri": "https://localhost:8080/",
          "height": 295
        },
        "id": "iAHYyaNkhjIg",
        "outputId": "4be60179-e3ba-44df-fa8a-3c2ffedb6170"
      },
      "source": [
        "plt.plot('points', 'price', '.', data = reviews)\n",
        "plt.title('Price vs Points')\n",
        "plt.xlabel('Points')\n",
        "plt.ylabel('Price')\n",
        "plt.show()"
      ],
      "execution_count": null,
      "outputs": [
        {
          "output_type": "display_data",
          "data": {
            "image/png": "[encoded data removed]",
            "text/plain": [
              "<Figure size 432x288 with 1 Axes>"
            ]
          },
          "metadata": {
            "tags": [],
            "needs_background": "light"
          }
        }
      ]
    }
  ]
}