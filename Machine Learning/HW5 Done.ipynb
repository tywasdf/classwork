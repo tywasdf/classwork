{
  "nbformat": 4,
  "nbformat_minor": 0,
  "metadata": {
    "kernelspec": {
      "display_name": "Python 3",
      "language": "python",
      "name": "python3"
    },
    "language_info": {
      "codemirror_mode": {
        "name": "ipython",
        "version": 3
      },
      "file_extension": ".py",
      "mimetype": "text/x-python",
      "name": "python",
      "nbconvert_exporter": "python",
      "pygments_lexer": "ipython3",
      "version": "3.8.5"
    },
    "colab": {
      "name": "HW5.ipynb",
      "provenance": [],
      "collapsed_sections": [],
      "toc_visible": true
    }
  },
  "cells": [
    {
      "cell_type": "markdown",
      "metadata": {
        "id": "hIBAwHKfrbrq"
      },
      "source": [
        "# COMP4220: Machine Learning, Spring 2021, Assignment 5\n",
        "Due: Wednsday, April 7, 11pm\n",
        "\n",
        "Please submit one pdf file for all questions.\n",
        "\n",
        "You can type your answer for the first two questions in the below cell of each question using \"Markdown\" option!\n",
        "\n",
        "****When turning in assignments after the due date, please clearly specify the number of late hours used."
      ]
    },
    {
      "cell_type": "markdown",
      "metadata": {
        "id": "q8P9O_w-rbrx"
      },
      "source": [
        "# P1. What is the fundamental idea behind Support Vector Machines?"
      ]
    },
    {
      "cell_type": "markdown",
      "metadata": {
        "id": "-Cfs_RDwrbry"
      },
      "source": [
        "The fundamental idea behind SVM's is to be fit the widest possible street between classes (in the form of margins). The SVM struggles to find the optimum compromise between finding the widest street and perfectly separating each of the classes.\n",
        "\n",
        "\n"
      ]
    },
    {
      "cell_type": "markdown",
      "metadata": {
        "id": "xb61Xgwdrbry"
      },
      "source": [
        "# P2. If a Decision Tree is underfitting the training set, is it a good idea to try scaling the input features?"
      ]
    },
    {
      "cell_type": "markdown",
      "metadata": {
        "id": "QJeBDWEgrbry"
      },
      "source": [
        "Decision Trees do nor require feature scaling, so it would not fix the underfitting of the training set.\n",
        "\n",
        "\n",
        "\n"
      ]
    },
    {
      "cell_type": "markdown",
      "metadata": {
        "id": "Q5IeDQcdrbrz"
      },
      "source": [
        "# P3.If you have trained five different models on the exact same training data, and they all achieve 95% precision, is there any chance that you can combine these models to get better results? If so, how? If not, why?"
      ]
    },
    {
      "cell_type": "markdown",
      "metadata": {
        "id": "44ktr5KIrbrz"
      },
      "source": [
        "Yes, Learning Ensembles combine multiple predictors to often produce an overall higher accuracy than any one model. What it does is aggregate preditions of all the classifiers and then predicts the class that occurs as the most common prediction between the models.\n",
        "\n",
        "\n",
        "\n"
      ]
    },
    {
      "cell_type": "markdown",
      "metadata": {
        "id": "iQ5WC_xJrbrz"
      },
      "source": [
        "# Programming assignments (SVM, Decision Tree, Random Forest)"
      ]
    },
    {
      "cell_type": "code",
      "metadata": {
        "id": "xxE1cA6krbrz"
      },
      "source": [
        "# Importing the libraries\n",
        "import numpy as np\n",
        "import matplotlib.pyplot as plt\n",
        "import pandas as pd\n"
      ],
      "execution_count": null,
      "outputs": []
    },
    {
      "cell_type": "code",
      "metadata": {
        "id": "25lPsgYyrbr0"
      },
      "source": [
        "# Importing the dataset\n",
        "dataset = pd.read_csv('Social_Network_Ads.csv')\n",
        "X = dataset.iloc[:, [2, 3]].values\n",
        "y = dataset.iloc[:, 4].values\n"
      ],
      "execution_count": null,
      "outputs": []
    },
    {
      "cell_type": "markdown",
      "metadata": {
        "id": "SEpPfwDhrbr0"
      },
      "source": [
        "# P4. Programming assignment(SVM)"
      ]
    },
    {
      "cell_type": "markdown",
      "metadata": {
        "id": "qGpceBxlrbr0"
      },
      "source": [
        "# P4.1 Split the dataset into the Training set(%75) and Test set(%25) \n",
        "use \"train_test_split\" from sklearn.model_selection.\n",
        "\n",
        "Use these variables:(X_train, X_test, y_train, y_test)"
      ]
    },
    {
      "cell_type": "code",
      "metadata": {
        "id": "kXXUq101rbr1"
      },
      "source": [
        "from sklearn.model_selection import train_test_split\n",
        "X_train, X_test, y_train, y_test = train_test_split(X, y, test_size = 0.25, train_size = 0.75) #don't actually have to define test and train size as default is exactly what we want"
      ],
      "execution_count": null,
      "outputs": []
    },
    {
      "cell_type": "markdown",
      "metadata": {
        "id": "ZGoTiYFLrbr1"
      },
      "source": [
        "# P4.2 Apply Feature Scaling method for X_train and X_test\n",
        "Hint: use StandardScaler.fit_transform(X_train) for \"X_train\" and use StandardScaler.transform(X_test) for \"X_test\"\n",
        "\n",
        "\n"
      ]
    },
    {
      "cell_type": "code",
      "metadata": {
        "id": "y641YTO8rbr1"
      },
      "source": [
        "from sklearn.preprocessing import StandardScaler\n",
        "sc = StandardScaler()\n",
        "X_train = sc.fit_transform(X_train)\n",
        "X_test= sc.transform(X_test)"
      ],
      "execution_count": null,
      "outputs": []
    },
    {
      "cell_type": "markdown",
      "metadata": {
        "id": "8pnoGfCQrbr1"
      },
      "source": [
        "# P4.3 Train the SVM model on the Training set, \n",
        "(random_state = 0)"
      ]
    },
    {
      "cell_type": "code",
      "metadata": {
        "colab": {
          "base_uri": "https://localhost:8080/"
        },
        "id": "WVE0-ajarbr1",
        "outputId": "c37c630a-d03d-477d-be04-64b4cbe539e5"
      },
      "source": [
        "from sklearn import svm\n",
        "\n",
        "svm_clf = svm.SVC(kernel='linear', random_state = 0)\n",
        "\n",
        "svm_clf.fit(X_train, y_train)\n",
        "\n"
      ],
      "execution_count": null,
      "outputs": [
        {
          "output_type": "execute_result",
          "data": {
            "text/plain": [
              "SVC(C=1.0, break_ties=False, cache_size=200, class_weight=None, coef0=0.0,\n",
              "    decision_function_shape='ovr', degree=3, gamma='scale', kernel='linear',\n",
              "    max_iter=-1, probability=False, random_state=0, shrinking=True, tol=0.001,\n",
              "    verbose=False)"
            ]
          },
          "metadata": {
            "tags": []
          },
          "execution_count": 32
        }
      ]
    },
    {
      "cell_type": "markdown",
      "metadata": {
        "id": "fDvttvhfrbr2"
      },
      "source": [
        "# P4.4 Predict the Test set results and show the result\n"
      ]
    },
    {
      "cell_type": "code",
      "metadata": {
        "colab": {
          "base_uri": "https://localhost:8080/"
        },
        "id": "hpYLr1whrbr2",
        "outputId": "5b4ba8a9-36a4-4564-9030-fb303d6d3cfc"
      },
      "source": [
        "svm_y_pred = svm_clf.predict(X_test)\n",
        "svm_y_pred"
      ],
      "execution_count": null,
      "outputs": [
        {
          "output_type": "execute_result",
          "data": {
            "text/plain": [
              "array([0, 1, 0, 0, 0, 0, 0, 1, 0, 0, 0, 0, 0, 0, 1, 1, 0, 1, 1, 1, 1, 1,\n",
              "       0, 0, 1, 0, 0, 0, 0, 0, 1, 0, 1, 1, 1, 1, 0, 1, 0, 1, 0, 0, 0, 1,\n",
              "       0, 0, 1, 0, 0, 0, 0, 1, 1, 0, 0, 0, 1, 0, 1, 1, 0, 0, 1, 0, 1, 0,\n",
              "       0, 0, 1, 0, 0, 1, 0, 1, 0, 0, 0, 0, 0, 1, 0, 1, 0, 0, 0, 0, 0, 1,\n",
              "       0, 0, 0, 0, 1, 0, 0, 1, 0, 1, 1, 0])"
            ]
          },
          "metadata": {
            "tags": []
          },
          "execution_count": 33
        }
      ]
    },
    {
      "cell_type": "markdown",
      "metadata": {
        "id": "hy7GtGvrrbr2"
      },
      "source": [
        "# P4.5 Make the Confusion Matrix and show the result"
      ]
    },
    {
      "cell_type": "code",
      "metadata": {
        "colab": {
          "base_uri": "https://localhost:8080/"
        },
        "id": "5uSFYvierbr2",
        "outputId": "d7fe2b8e-9d69-4184-b746-8e7997d47fb3"
      },
      "source": [
        "from sklearn.metrics import confusion_matrix\n",
        "svm_confusionM = confusion_matrix(y_test, svm_y_pred)\n",
        "svm_confusionM"
      ],
      "execution_count": null,
      "outputs": [
        {
          "output_type": "execute_result",
          "data": {
            "text/plain": [
              "array([[54,  4],\n",
              "       [10, 32]])"
            ]
          },
          "metadata": {
            "tags": []
          },
          "execution_count": 34
        }
      ]
    },
    {
      "cell_type": "markdown",
      "metadata": {
        "id": "RF6C9Iq1rbr2"
      },
      "source": [
        "# P5. Programming assignment(Decision Tree)"
      ]
    },
    {
      "cell_type": "markdown",
      "metadata": {
        "id": "W6X-Fvgprbr2"
      },
      "source": [
        "# P5.1 Train the Decision Tree Classification on the Training set,\n",
        "(criterion = 'entropy', random_state = 0)"
      ]
    },
    {
      "cell_type": "code",
      "metadata": {
        "colab": {
          "base_uri": "https://localhost:8080/"
        },
        "id": "Jr1g8Jjqrbr3",
        "outputId": "e99b0879-a52f-46c4-a2ac-153a9f26c2d0"
      },
      "source": [
        "from sklearn.tree import DecisionTreeClassifier\n",
        "\n",
        "tree_clf = DecisionTreeClassifier(criterion = \"entropy\", random_state = 0)\n",
        "\n",
        "tree_clf.fit(X_train, y_train)"
      ],
      "execution_count": null,
      "outputs": [
        {
          "output_type": "execute_result",
          "data": {
            "text/plain": [
              "DecisionTreeClassifier(ccp_alpha=0.0, class_weight=None, criterion='entropy',\n",
              "                       max_depth=None, max_features=None, max_leaf_nodes=None,\n",
              "                       min_impurity_decrease=0.0, min_impurity_split=None,\n",
              "                       min_samples_leaf=1, min_samples_split=2,\n",
              "                       min_weight_fraction_leaf=0.0, presort='deprecated',\n",
              "                       random_state=0, splitter='best')"
            ]
          },
          "metadata": {
            "tags": []
          },
          "execution_count": 35
        }
      ]
    },
    {
      "cell_type": "markdown",
      "metadata": {
        "id": "Xbe9SSqBrbr3"
      },
      "source": [
        "#  P5.2 Predict the Test set results "
      ]
    },
    {
      "cell_type": "code",
      "metadata": {
        "id": "RC25o9jRrbr5"
      },
      "source": [
        "tree_y_pred = tree_clf.predict(X_test)"
      ],
      "execution_count": null,
      "outputs": []
    },
    {
      "cell_type": "markdown",
      "metadata": {
        "id": "1gncWtzlrbr6"
      },
      "source": [
        "# P5.3 Make the Confusion Matrix and show the result"
      ]
    },
    {
      "cell_type": "code",
      "metadata": {
        "colab": {
          "base_uri": "https://localhost:8080/"
        },
        "id": "nTcDYnabrbr6",
        "outputId": "1ce8c512-7296-44b2-c00d-97bd5a9e5de5"
      },
      "source": [
        "tree_confusionM = confusion_matrix(y_test, tree_y_pred)\n",
        "tree_confusionM\n"
      ],
      "execution_count": null,
      "outputs": [
        {
          "output_type": "execute_result",
          "data": {
            "text/plain": [
              "array([[52,  6],\n",
              "       [ 9, 33]])"
            ]
          },
          "metadata": {
            "tags": []
          },
          "execution_count": 37
        }
      ]
    },
    {
      "cell_type": "markdown",
      "metadata": {
        "id": "Xz0Dr6h9rbr6"
      },
      "source": [
        "# P6. Programming assignment(Random Forest)"
      ]
    },
    {
      "cell_type": "markdown",
      "metadata": {
        "id": "xV4CcPbfrbr6"
      },
      "source": [
        "# P6.1 Train the Random Forest Classification on the Training set, \n",
        "(criterion = 'entropy', random_state = 0)"
      ]
    },
    {
      "cell_type": "code",
      "metadata": {
        "colab": {
          "base_uri": "https://localhost:8080/"
        },
        "id": "6T0rQjDUrbr6",
        "outputId": "a1b639d1-fc84-4f4c-a75c-1b3f3f04eae3"
      },
      "source": [
        "from sklearn.ensemble import RandomForestClassifier\n",
        "\n",
        "rnd_clf = RandomForestClassifier(criterion = \"entropy\", random_state = 0)\n",
        "\n",
        "rnd_clf.fit(X_train, y_train)"
      ],
      "execution_count": null,
      "outputs": [
        {
          "output_type": "execute_result",
          "data": {
            "text/plain": [
              "RandomForestClassifier(bootstrap=True, ccp_alpha=0.0, class_weight=None,\n",
              "                       criterion='entropy', max_depth=None, max_features='auto',\n",
              "                       max_leaf_nodes=None, max_samples=None,\n",
              "                       min_impurity_decrease=0.0, min_impurity_split=None,\n",
              "                       min_samples_leaf=1, min_samples_split=2,\n",
              "                       min_weight_fraction_leaf=0.0, n_estimators=100,\n",
              "                       n_jobs=None, oob_score=False, random_state=0, verbose=0,\n",
              "                       warm_start=False)"
            ]
          },
          "metadata": {
            "tags": []
          },
          "execution_count": 38
        }
      ]
    },
    {
      "cell_type": "markdown",
      "metadata": {
        "id": "nl3CsmOjrbr6"
      },
      "source": [
        "#  P6.2 Predict the Test set results "
      ]
    },
    {
      "cell_type": "code",
      "metadata": {
        "id": "pbUqTmiirbr6"
      },
      "source": [
        "rnd_y_pred = rnd_clf.predict(X_test)\n"
      ],
      "execution_count": null,
      "outputs": []
    },
    {
      "cell_type": "markdown",
      "metadata": {
        "id": "NuyUzptPrbr7"
      },
      "source": [
        "# P6.3 Make the Confusion Matrix and show the result"
      ]
    },
    {
      "cell_type": "code",
      "metadata": {
        "colab": {
          "base_uri": "https://localhost:8080/"
        },
        "id": "AihiKePXrbr7",
        "outputId": "08b34c97-8009-482a-8142-50e3fca066fd"
      },
      "source": [
        "rnd_confusionM = confusion_matrix(y_test, tree_y_pred)\n",
        "rnd_confusionM"
      ],
      "execution_count": null,
      "outputs": [
        {
          "output_type": "execute_result",
          "data": {
            "text/plain": [
              "array([[52,  6],\n",
              "       [ 9, 33]])"
            ]
          },
          "metadata": {
            "tags": []
          },
          "execution_count": 40
        }
      ]
    },
    {
      "cell_type": "markdown",
      "metadata": {
        "id": "ixhwYjbfrbr7"
      },
      "source": [
        "# Train and fine-tune a Decision Tree for the moons dataset by following these steps"
      ]
    },
    {
      "cell_type": "markdown",
      "metadata": {
        "id": "PPp7RPRBrbr7"
      },
      "source": [
        "# P7.1.  Use make_moons(n_samples=10000, noise=0.4) to generate a moons dataset."
      ]
    },
    {
      "cell_type": "code",
      "metadata": {
        "id": "_grJFFc2rbr7"
      },
      "source": [
        "from sklearn.datasets import make_moons\n",
        "\n",
        "moons_X, moons_y = make_moons(n_samples = 10000, noise = 0.4)"
      ],
      "execution_count": null,
      "outputs": []
    },
    {
      "cell_type": "markdown",
      "metadata": {
        "id": "atLCQm-Prbr7"
      },
      "source": [
        "# P7.2. Use train_test_split() to split the dataset into a training set and a test set."
      ]
    },
    {
      "cell_type": "code",
      "metadata": {
        "id": "nGENuE3Nrbr8"
      },
      "source": [
        "moons_X_train, moons_X_test, moons_y_train, moons_y_test = train_test_split(moons_X, moons_y, test_size = 0.25, train_size = 0.75)"
      ],
      "execution_count": null,
      "outputs": []
    },
    {
      "cell_type": "markdown",
      "metadata": {
        "id": "bQJeF-ECrbr8"
      },
      "source": [
        "# P7.3. Use grid search with cross-validation (with the help of the GridSearchCV class) to find good hyperparameter values for a DecisionTreeClassifier.\n",
        "#Hint: try various values for max_leaf_nodes.\n",
        "\n",
        "\n",
        "Train it on the full training set using these hyperparameters, and measure your model’s performance on the test set. You should get roughly 85% to 87% accuracy.\n",
        "\n",
        "By default, GridSearchCV trains the best model found on the whole training set (you can change this by setting refit=False), so you don't need to do it again."
      ]
    },
    {
      "cell_type": "code",
      "metadata": {
        "colab": {
          "base_uri": "https://localhost:8080/"
        },
        "id": "ABSP0c5Zrbr8",
        "outputId": "73313b88-b269-442b-9c9f-fb556b1ddf5a"
      },
      "source": [
        "from sklearn.model_selection import GridSearchCV\n",
        "parameters = {'max_leaf_nodes': list(range(2,1000))}\n",
        "dtc = DecisionTreeClassifier()\n",
        "clf = GridSearchCV(dtc, parameters, n_jobs=-1)\n",
        "clf.fit(moons_X_train, moons_y_train)\n",
        "\n"
      ],
      "execution_count": null,
      "outputs": [
        {
          "output_type": "execute_result",
          "data": {
            "text/plain": [
              "GridSearchCV(cv=None, error_score=nan,\n",
              "             estimator=DecisionTreeClassifier(ccp_alpha=0.0, class_weight=None,\n",
              "                                              criterion='gini', max_depth=None,\n",
              "                                              max_features=None,\n",
              "                                              max_leaf_nodes=None,\n",
              "                                              min_impurity_decrease=0.0,\n",
              "                                              min_impurity_split=None,\n",
              "                                              min_samples_leaf=1,\n",
              "                                              min_samples_split=2,\n",
              "                                              min_weight_fraction_leaf=0.0,\n",
              "                                              presort='deprecated',\n",
              "                                              random_state=None,\n",
              "                                              splitter='best'),\n",
              "             iid='deprecated', n_jobs=-1,\n",
              "             param_grid={'max_leaf_nodes': [2, 3, 4, 5, 6, 7, 8, 9, 10, 11, 12,\n",
              "                                            13, 14, 15, 16, 17, 18, 19, 20, 21,\n",
              "                                            22, 23, 24, 25, 26, 27, 28, 29, 30,\n",
              "                                            31, ...]},\n",
              "             pre_dispatch='2*n_jobs', refit=True, return_train_score=False,\n",
              "             scoring=None, verbose=0)"
            ]
          },
          "metadata": {
            "tags": []
          },
          "execution_count": 113
        }
      ]
    },
    {
      "cell_type": "markdown",
      "metadata": {
        "id": "piuOE_4orbr8"
      },
      "source": [
        "# P7.4. Evaluate the model's accuracy and show the result"
      ]
    },
    {
      "cell_type": "code",
      "metadata": {
        "id": "1jghxvP8XrqO",
        "colab": {
          "base_uri": "https://localhost:8080/"
        },
        "outputId": "be17a46c-1367-432d-cc71-91a231fce49a"
      },
      "source": [
        "print(clf.best_estimator_)"
      ],
      "execution_count": null,
      "outputs": [
        {
          "output_type": "stream",
          "text": [
            "DecisionTreeClassifier(ccp_alpha=0.0, class_weight=None, criterion='gini',\n",
            "                       max_depth=None, max_features=None, max_leaf_nodes=4,\n",
            "                       min_impurity_decrease=0.0, min_impurity_split=None,\n",
            "                       min_samples_leaf=1, min_samples_split=2,\n",
            "                       min_weight_fraction_leaf=0.0, presort='deprecated',\n",
            "                       random_state=None, splitter='best')\n"
          ],
          "name": "stdout"
        }
      ]
    },
    {
      "cell_type": "code",
      "metadata": {
        "colab": {
          "base_uri": "https://localhost:8080/"
        },
        "id": "fTa9mNTDrbr8",
        "outputId": "e4f0d58e-0a54-41c6-88d0-1dd767732fcc"
      },
      "source": [
        "clf.score(moons_X_test, moons_y_test) #calculate mean accuray based on test and true labels using method in DecisionTreeClassifier"
      ],
      "execution_count": null,
      "outputs": [
        {
          "output_type": "execute_result",
          "data": {
            "text/plain": [
              "0.8568"
            ]
          },
          "metadata": {
            "tags": []
          },
          "execution_count": 117
        }
      ]
    }
  ]
}