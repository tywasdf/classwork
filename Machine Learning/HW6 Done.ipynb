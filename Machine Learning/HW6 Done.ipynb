{
  "nbformat": 4,
  "nbformat_minor": 0,
  "metadata": {
    "kernelspec": {
      "display_name": "Python 3",
      "language": "python",
      "name": "python3"
    },
    "language_info": {
      "codemirror_mode": {
        "name": "ipython",
        "version": 3
      },
      "file_extension": ".py",
      "mimetype": "text/x-python",
      "name": "python",
      "nbconvert_exporter": "python",
      "pygments_lexer": "ipython3",
      "version": "3.8.5"
    },
    "colab": {
      "name": "HW6.ipynb",
      "provenance": [],
      "collapsed_sections": [],
      "toc_visible": true
    }
  },
  "cells": [
    {
      "cell_type": "markdown",
      "metadata": {
        "id": "F92L14krvpYd"
      },
      "source": [
        "# COMP4220: Machine Learning, Spring 2021, Assignment 6 (lec 6,8)\n",
        "Due: Wednsday, April 28, 11pm\n",
        "\n",
        "Please read lecture 6:Unsupervised Learning and Clustering and lecture 8:Neural Networks and Keras!\n",
        "\n",
        "Please submit one pdf file for all questions.\n",
        "\n",
        "You can type your answer for the first two questions in the below cell of each question using \"Markdown\" option!\n",
        "\n",
        "****When turning in assignments after the due date, please clearly specify the number of late hours used."
      ]
    },
    {
      "cell_type": "markdown",
      "metadata": {
        "id": "xKEFwGq6vpYi"
      },
      "source": [
        "# P1. Describe two techniques to select the right number of clusters when using K-Means."
      ]
    },
    {
      "cell_type": "markdown",
      "metadata": {
        "id": "nrXHlbfsvpYj"
      },
      "source": [
        "We can use the elbow technique to identify the inflection point in the inertia vs K graph to identify a general number of clusters that we should use.\n",
        "\n",
        "We can also use the silhouette score, which is the mean silhouette coefficient over all instances. We would pick the K that has the highest silhouette score. The silhouette score is the mean silhouette coefficient over all the instances, which can be evaluated by (b-a)/max(a-b) where a is the mean distance to instances in the same cluster and b is the mean nearest-cluster distance.\n",
        "\n",
        "\n"
      ]
    },
    {
      "cell_type": "markdown",
      "metadata": {
        "id": "jKjXpvbxvpYj"
      },
      "source": [
        "# P2. What is the difference between hard clustering and soft clustering?"
      ]
    },
    {
      "cell_type": "markdown",
      "metadata": {
        "id": "WsseVLLevpYk"
      },
      "source": [
        "Hard clustering is assigning each instance to a single cluster, while soft clustering is assigning a score to each instance per cluster. Usually the score will simulate how similar the instance is to the respective cluster."
      ]
    },
    {
      "cell_type": "markdown",
      "metadata": {
        "id": "yTenD-5ZvpYk"
      },
      "source": [
        "# P3. List five hyperparameters you can tweak in a basic neural network?"
      ]
    },
    {
      "cell_type": "markdown",
      "metadata": {
        "id": "9RbQhUw_vpYk"
      },
      "source": [
        "1. learning rate\n",
        "2. number of layers\n",
        "3. number of neurons per layer\n",
        "4. types of activation functions per layer\n",
        "5. batch size\n",
        "\n",
        "\n",
        "\n",
        "\n",
        "\n",
        "\n"
      ]
    },
    {
      "cell_type": "markdown",
      "metadata": {
        "id": "OzA0VCePvpYk"
      },
      "source": [
        "# p4: What is backpropagation and how does it work?"
      ]
    },
    {
      "cell_type": "markdown",
      "metadata": {
        "id": "JHt-iqkOvpYl"
      },
      "source": [
        "Backpropogation is an algorithm that is gradient Descent that computes the gradients in two passes through the network. \n",
        "It works by by putting through the full training set in mini-batches. It sends the minibatch through the first hidden layer and computes the output of the neurons in that layer, then passes the result onto the next layer and repeats until we get the output of the output layer.\n",
        "It then computes the network's output error and then computes how much each layer contributed to the total output error.\n",
        "\n",
        "\n",
        "\n",
        "\n",
        "\n",
        "\n"
      ]
    },
    {
      "cell_type": "markdown",
      "metadata": {
        "id": "jU4NQ5eCvpYl"
      },
      "source": [
        "# P5. What are some of the main applications of clustering algorithms? (Name at least three applications)"
      ]
    },
    {
      "cell_type": "markdown",
      "metadata": {
        "id": "ONQzP4GTvpYl"
      },
      "source": [
        "\n",
        "1. Image segmentation\n",
        "2. Data analysis\n",
        "3. Anomaly Detection\n",
        "\n",
        "\n",
        "\n"
      ]
    },
    {
      "cell_type": "markdown",
      "metadata": {
        "id": "d7FtJEw3vpYl"
      },
      "source": [
        "# P6. Cluster the following points, (18, 10), (21, 11), (22, 22), (24, 15), (26, 12), (26, 13), (27, 14), (30, 33), (31, 39), (35, 37), (39, 44), (40, 27), (41, 29), (42, 20), (44, 28), (46, 21), (47, 30), (48, 31), (49, 23), (54, 24) use the numbers as pairs of x and y values which represent their locations. All distances are measured with Euclidean distance.\n"
      ]
    },
    {
      "cell_type": "code",
      "metadata": {
        "colab": {
          "base_uri": "https://localhost:8080/"
        },
        "id": "OcWxn5_SvpYm",
        "outputId": "ed840339-4db7-4d7c-cf46-a591197b5371"
      },
      "source": [
        "# Importing the libraries\n",
        "import numpy as np\n",
        "from sklearn.cluster import KMeans\n",
        "import matplotlib.pyplot as plt\n",
        "import pandas as pd\n",
        "data = np.array([[18,10],[21,11],[22,22],[24,15],[26,12],[26,13],[27,14],[30,33],[31,33],[31,39],[35,37],[39,44],[40,27],[41,29],[42,20],[44,28],[46,21],[47,30],[48,31],[49,23],[54,24]])\n",
        "data"
      ],
      "execution_count": null,
      "outputs": [
        {
          "output_type": "execute_result",
          "data": {
            "text/plain": [
              "array([[18, 10],\n",
              "       [21, 11],\n",
              "       [22, 22],\n",
              "       [24, 15],\n",
              "       [26, 12],\n",
              "       [26, 13],\n",
              "       [27, 14],\n",
              "       [30, 33],\n",
              "       [31, 33],\n",
              "       [31, 39],\n",
              "       [35, 37],\n",
              "       [39, 44],\n",
              "       [40, 27],\n",
              "       [41, 29],\n",
              "       [42, 20],\n",
              "       [44, 28],\n",
              "       [46, 21],\n",
              "       [47, 30],\n",
              "       [48, 31],\n",
              "       [49, 23],\n",
              "       [54, 24]])"
            ]
          },
          "metadata": {
            "tags": []
          },
          "execution_count": 14
        }
      ]
    },
    {
      "cell_type": "markdown",
      "metadata": {
        "id": "8uUZD2rFvpYm"
      },
      "source": [
        "# P6.1 Train the Kmeans clustering algorithm on the data with (24, 15), (30, 33), and (54, 24) as the initial cluster centers. Predict the cluster of each data point and show the result. \n",
        "\n"
      ]
    },
    {
      "cell_type": "code",
      "metadata": {
        "colab": {
          "base_uri": "https://localhost:8080/"
        },
        "id": "H2Yier46vpYm",
        "outputId": "b6857652-a7db-4d49-d163-9917638d173e"
      },
      "source": [
        "cluster_centers = np.array([[24,15],[30,33],[54,24]])\n",
        "kmeans = KMeans(n_clusters=3,init=cluster_centers)\n",
        "cluster_predict = kmeans.fit_predict(data)\n",
        "cluster_predict\n"
      ],
      "execution_count": null,
      "outputs": [
        {
          "output_type": "stream",
          "text": [
            "/usr/local/lib/python3.7/dist-packages/sklearn/cluster/_kmeans.py:1008: RuntimeWarning: Explicit initial center position passed: performing only one init in k-means instead of n_init=10\n",
            "  return self.fit(X, sample_weight=sample_weight).labels_\n"
          ],
          "name": "stderr"
        },
        {
          "output_type": "execute_result",
          "data": {
            "text/plain": [
              "array([0, 0, 0, 0, 0, 0, 0, 1, 1, 1, 1, 1, 2, 2, 2, 2, 2, 2, 2, 2, 2],\n",
              "      dtype=int32)"
            ]
          },
          "metadata": {
            "tags": []
          },
          "execution_count": 17
        }
      ]
    },
    {
      "cell_type": "markdown",
      "metadata": {
        "id": "6GPCoaOPvpYm"
      },
      "source": [
        "# P6.2 Visualize the clusters "
      ]
    },
    {
      "cell_type": "code",
      "metadata": {
        "colab": {
          "base_uri": "https://localhost:8080/",
          "height": 265
        },
        "id": "-d5MphXrvpYn",
        "outputId": "70ce820f-d651-49f4-b1fb-a5509dc25f76"
      },
      "source": [
        "plt.scatter(data[:, 0], data[:, 1], c=cluster_predict, cmap='viridis')\n",
        "centers = kmeans.cluster_centers_\n",
        "plt.scatter(centers[:, 0], centers[:, 1], c='black', alpha=0.5);"
      ],
      "execution_count": null,
      "outputs": [
        {
          "output_type": "display_data",
          "data": {
            "image/png": "[encoded data removed]",
            "text/plain": [
              "<Figure size 432x288 with 1 Axes>"
            ]
          },
          "metadata": {
            "tags": [],
            "needs_background": "light"
          }
        }
      ]
    },
    {
      "cell_type": "markdown",
      "metadata": {
        "id": "H_eTRB3GvpYn"
      },
      "source": [
        "# P7. Programming assignment (KMeans clustering)"
      ]
    },
    {
      "cell_type": "code",
      "metadata": {
        "id": "qP_4UPyYvpYn"
      },
      "source": [
        "#Import the dataset\n",
        "\n",
        "dataset = pd.read_csv('Mall_Customers.csv')\n",
        "X = dataset.iloc[:, [3, 4]].values"
      ],
      "execution_count": null,
      "outputs": []
    },
    {
      "cell_type": "markdown",
      "metadata": {
        "id": "nLV0_DBGvpYn"
      },
      "source": [
        "# P7. 1 Use the elbow method to find the optimal number of clusters through a loop (1 to 10 clusters) and visualize the result on a 2D plot\n",
        "Set init = 'k-means++'\n",
        "\n"
      ]
    },
    {
      "cell_type": "code",
      "metadata": {
        "colab": {
          "base_uri": "https://localhost:8080/",
          "height": 279
        },
        "id": "OQaGqctqvpYn",
        "outputId": "7ab358c5-4e74-4f6a-bfbd-91886be62232"
      },
      "source": [
        "inertia = []\n",
        "for k in range(1,10):  \n",
        "  kmeans = KMeans(n_clusters= k,init='k-means++')\n",
        "  kmeans.fit(X)\n",
        "  inertia.append(kmeans.inertia_)\n",
        "\n",
        "plt.plot(range(1,10),inertia)\n",
        "plt.xlabel(\"Number of Clusters\")\n",
        "plt.ylabel(\"Inertia\")\n",
        "plt.show()"
      ],
      "execution_count": null,
      "outputs": [
        {
          "output_type": "display_data",
          "data": {
            "image/png": "[encoded data removed]",
            "text/plain": [
              "<Figure size 432x288 with 1 Axes>"
            ]
          },
          "metadata": {
            "tags": [],
            "needs_background": "light"
          }
        }
      ]
    },
    {
      "cell_type": "markdown",
      "metadata": {
        "id": "xKf3VCYlvpYn"
      },
      "source": [
        "# P7. 2 Fit K-Means to the dataset and use the optimal number of clusters that you found in the previous part and show the result\n"
      ]
    },
    {
      "cell_type": "code",
      "metadata": {
        "colab": {
          "base_uri": "https://localhost:8080/"
        },
        "id": "Uc6tpM-bvpYo",
        "outputId": "6d815283-e386-44b8-d5a2-d75565567858"
      },
      "source": [
        "kmeans = KMeans(n_clusters=5, init='k-means++')\n",
        "predict = kmeans.fit_predict(X)\n",
        "predict"
      ],
      "execution_count": null,
      "outputs": [
        {
          "output_type": "execute_result",
          "data": {
            "text/plain": [
              "array([4, 1, 4, 1, 4, 1, 4, 1, 4, 1, 4, 1, 4, 1, 4, 1, 4, 1, 4, 1, 4, 1,\n",
              "       4, 1, 4, 1, 4, 1, 4, 1, 4, 1, 4, 1, 4, 1, 4, 1, 4, 1, 4, 1, 4, 2,\n",
              "       4, 1, 2, 2, 2, 2, 2, 2, 2, 2, 2, 2, 2, 2, 2, 2, 2, 2, 2, 2, 2, 2,\n",
              "       2, 2, 2, 2, 2, 2, 2, 2, 2, 2, 2, 2, 2, 2, 2, 2, 2, 2, 2, 2, 2, 2,\n",
              "       2, 2, 2, 2, 2, 2, 2, 2, 2, 2, 2, 2, 2, 2, 2, 2, 2, 2, 2, 2, 2, 2,\n",
              "       2, 2, 2, 2, 2, 2, 2, 2, 2, 2, 2, 2, 2, 0, 3, 0, 2, 0, 3, 0, 3, 0,\n",
              "       2, 0, 3, 0, 3, 0, 3, 0, 3, 0, 2, 0, 3, 0, 3, 0, 3, 0, 3, 0, 3, 0,\n",
              "       3, 0, 3, 0, 3, 0, 3, 0, 3, 0, 3, 0, 3, 0, 3, 0, 3, 0, 3, 0, 3, 0,\n",
              "       3, 0, 3, 0, 3, 0, 3, 0, 3, 0, 3, 0, 3, 0, 3, 0, 3, 0, 3, 0, 3, 0,\n",
              "       3, 0], dtype=int32)"
            ]
          },
          "metadata": {
            "tags": []
          },
          "execution_count": 23
        }
      ]
    },
    {
      "cell_type": "markdown",
      "metadata": {
        "id": "xcHSJzcTvpYo"
      },
      "source": [
        "# P7. 3 Visuale the clusters \n",
        "(xlabel('Annual Income (k$)' and ylabel('Spending Score (1-100)'))\n",
        "\n",
        "Use different colors for clusters and label them\n",
        "\n"
      ]
    },
    {
      "cell_type": "code",
      "metadata": {
        "colab": {
          "base_uri": "https://localhost:8080/",
          "height": 279
        },
        "id": "h5ho2h0zvpYo",
        "outputId": "2e928249-9870-4452-fc98-1e21ce99970b"
      },
      "source": [
        "\n",
        "fig, ax = plt.subplots()\n",
        "for g in np.unique(predict):\n",
        "    i = np.where(predict == g)\n",
        "    ax.scatter(X[i,0], X[i,1], label=g)\n",
        "ax.legend()\n",
        "plt.xlabel('Annual Income(k$)')\n",
        "plt.ylabel('Spending Score(1-100)')\n",
        "centers = kmeans.cluster_centers_\n",
        "plt.scatter(centers[:, 0], centers[:, 1], c='black', alpha=0.5);\n",
        "plt.show()\n"
      ],
      "execution_count": null,
      "outputs": [
        {
          "output_type": "display_data",
          "data": {
            "image/png": "[encoded data removed]",
            "text/plain": [
              "<Figure size 432x288 with 1 Axes>"
            ]
          },
          "metadata": {
            "tags": [],
            "needs_background": "light"
          }
        }
      ]
    },
    {
      "cell_type": "markdown",
      "metadata": {
        "id": "Dm5d6mHKvpYo"
      },
      "source": [
        "# P8. Programming Assignment (Artificial Neural Network-ANN)\n",
        "The problem of classifying customers staying in the bank or leaving!"
      ]
    },
    {
      "cell_type": "markdown",
      "metadata": {
        "id": "B0KTrj3ovpYo"
      },
      "source": [
        "# Part 1 - Data Preprocessing"
      ]
    },
    {
      "cell_type": "code",
      "metadata": {
        "colab": {
          "base_uri": "https://localhost:8080/",
          "height": 35
        },
        "id": "IvFhmAqKvpYp",
        "outputId": "06681377-dbc9-4688-e163-15a29e210b0f"
      },
      "source": [
        "# Importing the libraries\n",
        "import numpy as np\n",
        "import pandas as pd\n",
        "import tensorflow as tf\n",
        "from sklearn.compose import ColumnTransformer\n",
        "import keras\n",
        "from sklearn.model_selection import train_test_split\n",
        "from keras.models import Sequential\n",
        "from keras.layers import Dense\n",
        "from sklearn.preprocessing import LabelEncoder, OneHotEncoder\n",
        "from sklearn.preprocessing import StandardScaler\n",
        "from sklearn.metrics import confusion_matrix\n",
        "tf.__version__"
      ],
      "execution_count": null,
      "outputs": [
        {
          "output_type": "execute_result",
          "data": {
            "application/vnd.google.colaboratory.intrinsic+json": {
              "type": "string"
            },
            "text/plain": [
              "'2.4.1'"
            ]
          },
          "metadata": {
            "tags": []
          },
          "execution_count": 2
        }
      ]
    },
    {
      "cell_type": "code",
      "metadata": {
        "colab": {
          "base_uri": "https://localhost:8080/"
        },
        "id": "uZwH86h-vpYp",
        "outputId": "01aa7e45-c684-4f84-e41b-64a258d37d46"
      },
      "source": [
        "# Importing the dataset\n",
        "dataset = pd.read_csv('Churn_Modelling.csv')\n",
        "X = dataset.iloc[:, 3:13].values # Git rid of useless columns # start \"CreditScore\" column\n",
        "y = dataset.iloc[:, 13].values   # The last column \"Exited\" is our dependent variable\n",
        "print(X)\n",
        "print(y)"
      ],
      "execution_count": null,
      "outputs": [
        {
          "output_type": "stream",
          "text": [
            "[[619 'France' 'Female' ... 1 1 101348.88]\n",
            " [608 'Spain' 'Female' ... 0 1 112542.58]\n",
            " [502 'France' 'Female' ... 1 0 113931.57]\n",
            " ...\n",
            " [709 'France' 'Female' ... 0 1 42085.58]\n",
            " [772 'Germany' 'Male' ... 1 0 92888.52]\n",
            " [792 'France' 'Female' ... 1 0 38190.78]]\n",
            "[1 0 1 ... 1 1 0]\n"
          ],
          "name": "stdout"
        }
      ]
    },
    {
      "cell_type": "code",
      "metadata": {
        "colab": {
          "base_uri": "https://localhost:8080/"
        },
        "id": "b3nvWe6zvpYp",
        "outputId": "ee8c4f0d-644d-4854-baad-2c134080d44a"
      },
      "source": [
        "# Encoding categorical data\n",
        "from sklearn.preprocessing import LabelEncoder, OneHotEncoder\n",
        "labelencoder_X_1 = LabelEncoder()\n",
        "X[:, 1] = labelencoder_X_1.fit_transform(X[:, 1])\n",
        "labelencoder_X_2 = LabelEncoder()\n",
        "X[:, 2] = labelencoder_X_2.fit_transform(X[:, 2])\n",
        "ct = ColumnTransformer([(\"Geogrophy\", OneHotEncoder(), [1])], remainder = 'passthrough')\n",
        "X = ct.fit_transform(X)\n",
        "print(X)\n",
        "X = X[:, 1:]\n",
        "\n",
        "print(X)\n",
        "print(y)"
      ],
      "execution_count": null,
      "outputs": [
        {
          "output_type": "stream",
          "text": [
            "[[0.0 1.0 0.0 ... 1 1 101348.88]\n",
            " [1.0 0.0 1.0 ... 0 1 112542.58]\n",
            " [0.0 1.0 0.0 ... 1 0 113931.57]\n",
            " ...\n",
            " [0.0 1.0 0.0 ... 0 1 42085.58]\n",
            " [1.0 0.0 1.0 ... 1 0 92888.52]\n",
            " [0.0 1.0 0.0 ... 1 0 38190.78]]\n",
            "[[1.0 0.0 1 ... 1 1 101348.88]\n",
            " [0.0 1.0 0 ... 0 1 112542.58]\n",
            " [1.0 0.0 1 ... 1 0 113931.57]\n",
            " ...\n",
            " [1.0 0.0 1 ... 0 1 42085.58]\n",
            " [0.0 1.0 0 ... 1 0 92888.52]\n",
            " [1.0 0.0 1 ... 1 0 38190.78]]\n",
            "[1 0 1 ... 1 1 0]\n"
          ],
          "name": "stdout"
        }
      ]
    },
    {
      "cell_type": "markdown",
      "metadata": {
        "id": "1TTRVs6HvpYp"
      },
      "source": [
        "# P8.1.1 Split the dataset into the Training set and Test set (test_size = 0.2)"
      ]
    },
    {
      "cell_type": "code",
      "metadata": {
        "id": "m4_ZyjYevpYr"
      },
      "source": [
        "\n",
        "from sklearn.model_selection import train_test_split\n",
        "X_train_full, X_test, y_train_full, y_test = train_test_split(X, y, test_size = 0.2, train_size = 0.8)\n",
        "\n"
      ],
      "execution_count": null,
      "outputs": []
    },
    {
      "cell_type": "markdown",
      "metadata": {
        "id": "p6L_6MbOvpYs"
      },
      "source": [
        "# P8.1.2  Apply Feature Scaling to all features before training a neural network"
      ]
    },
    {
      "cell_type": "code",
      "metadata": {
        "id": "OLyMaWPmvpYs"
      },
      "source": [
        "from sklearn.preprocessing import StandardScaler\n",
        "sc = StandardScaler()\n",
        "X_train_full = sc.fit_transform(X_train_full)\n",
        "X_test= sc.transform(X_test)\n",
        "X_valid, X_train = X_train_full[:800], X_train_full[800:]\n",
        "y_valid,y_train = y_train_full[:800], y_train_full[800:]\n"
      ],
      "execution_count": null,
      "outputs": []
    },
    {
      "cell_type": "markdown",
      "metadata": {
        "id": "g2go1l4CvpYs"
      },
      "source": [
        "# Part 2 - Now let's make the ANN!"
      ]
    },
    {
      "cell_type": "code",
      "metadata": {
        "id": "VxzzcQlAvpYs"
      },
      "source": [
        "# Importing the Keras libraries and packages\n",
        "import keras\n",
        "from keras.models import Sequential\n",
        "from keras.layers import Dense"
      ],
      "execution_count": null,
      "outputs": []
    },
    {
      "cell_type": "code",
      "metadata": {
        "id": "Xy1FpKD4vpYs"
      },
      "source": [
        "# Initialising the ANN\n",
        "classifier = Sequential()"
      ],
      "execution_count": null,
      "outputs": []
    },
    {
      "cell_type": "markdown",
      "metadata": {
        "id": "ZGsDhIGpvpYs"
      },
      "source": [
        "# P8.2.1 Add the input layer and the first hidden layer"
      ]
    },
    {
      "cell_type": "code",
      "metadata": {
        "id": "QGEnzl7_vpYt"
      },
      "source": [
        "\n",
        "# hint: (units = 6, kernel_initializer = 'uniform', activation = 'relu', input_dim = 11)\n",
        "classifier.add(keras.layers.Dense(units = 6, kernel_initializer = 'uniform', activation = 'relu', input_dim = 11))"
      ],
      "execution_count": null,
      "outputs": []
    },
    {
      "cell_type": "markdown",
      "metadata": {
        "id": "dvEyM1msvpYt"
      },
      "source": [
        "# P8.2.2 Add the second hidden layer"
      ]
    },
    {
      "cell_type": "code",
      "metadata": {
        "id": "AFQtDZsDvpYt"
      },
      "source": [
        "#  hint: (units = 6, kernel_initializer = 'uniform', activation = 'relu')\n",
        "classifier.add(keras.layers.Dense(units = 6, kernel_initializer = 'uniform', activation = 'relu'))\n"
      ],
      "execution_count": null,
      "outputs": []
    },
    {
      "cell_type": "markdown",
      "metadata": {
        "id": "jTrR0RKWvpYt"
      },
      "source": [
        "# P8.2.3 Add the output layer"
      ]
    },
    {
      "cell_type": "code",
      "metadata": {
        "id": "Zo1n8dwpvpYt"
      },
      "source": [
        "# (units = 1, kernel_initializer = 'uniform', activation = 'sigmoid')\n",
        "classifier.add(keras.layers.Dense(units = 1, kernel_initializer = 'uniform', activation = 'sigmoid'))"
      ],
      "execution_count": null,
      "outputs": []
    },
    {
      "cell_type": "markdown",
      "metadata": {
        "id": "0kH_3bgYvpYt"
      },
      "source": [
        "# P8.2.4 Compile the ANN"
      ]
    },
    {
      "cell_type": "code",
      "metadata": {
        "id": "oUKylFoQvpYu"
      },
      "source": [
        "# hint: (optimizer = 'adam', loss = 'binary_crossentropy', metrics = ['accuracy']))\n",
        "classifier.compile(optimizer = 'adam', loss = 'binary_crossentropy', metrics = ['accuracy'])\n"
      ],
      "execution_count": null,
      "outputs": []
    },
    {
      "cell_type": "markdown",
      "metadata": {
        "id": "O_zemlqFvpYu"
      },
      "source": [
        "# P8.2.3 Fit the ANN to the Training set"
      ]
    },
    {
      "cell_type": "code",
      "metadata": {
        "colab": {
          "base_uri": "https://localhost:8080/"
        },
        "id": "0zmcuz0QvpYu",
        "outputId": "906f351d-827b-477d-8245-b7a74ea9142d"
      },
      "source": [
        "history = classifier.fit(X_train,y_train,epochs=30,validation_data=(X_valid,y_valid))"
      ],
      "execution_count": null,
      "outputs": [
        {
          "output_type": "stream",
          "text": [
            "Epoch 1/30\n",
            "225/225 [==============================] - 1s 2ms/step - loss: 0.6477 - accuracy: 0.7951 - val_loss: 0.4526 - val_accuracy: 0.7900\n",
            "Epoch 2/30\n",
            "225/225 [==============================] - 0s 1ms/step - loss: 0.4330 - accuracy: 0.8000 - val_loss: 0.4410 - val_accuracy: 0.7900\n",
            "Epoch 3/30\n",
            "225/225 [==============================] - 0s 1ms/step - loss: 0.4208 - accuracy: 0.8010 - val_loss: 0.4388 - val_accuracy: 0.7900\n",
            "Epoch 4/30\n",
            "225/225 [==============================] - 0s 1ms/step - loss: 0.4273 - accuracy: 0.7995 - val_loss: 0.4368 - val_accuracy: 0.7900\n",
            "Epoch 5/30\n",
            "225/225 [==============================] - 0s 1ms/step - loss: 0.4235 - accuracy: 0.7915 - val_loss: 0.4327 - val_accuracy: 0.8238\n",
            "Epoch 6/30\n",
            "225/225 [==============================] - 0s 1ms/step - loss: 0.4272 - accuracy: 0.8158 - val_loss: 0.4294 - val_accuracy: 0.8213\n",
            "Epoch 7/30\n",
            "225/225 [==============================] - 0s 1ms/step - loss: 0.4089 - accuracy: 0.8235 - val_loss: 0.4246 - val_accuracy: 0.8313\n",
            "Epoch 8/30\n",
            "225/225 [==============================] - 0s 2ms/step - loss: 0.4095 - accuracy: 0.8299 - val_loss: 0.4223 - val_accuracy: 0.8288\n",
            "Epoch 9/30\n",
            "225/225 [==============================] - 0s 1ms/step - loss: 0.4124 - accuracy: 0.8314 - val_loss: 0.4211 - val_accuracy: 0.8288\n",
            "Epoch 10/30\n",
            "225/225 [==============================] - 0s 1ms/step - loss: 0.4063 - accuracy: 0.8305 - val_loss: 0.4183 - val_accuracy: 0.8313\n",
            "Epoch 11/30\n",
            "225/225 [==============================] - 0s 2ms/step - loss: 0.4012 - accuracy: 0.8375 - val_loss: 0.4163 - val_accuracy: 0.8350\n",
            "Epoch 12/30\n",
            "225/225 [==============================] - 0s 1ms/step - loss: 0.4007 - accuracy: 0.8377 - val_loss: 0.4149 - val_accuracy: 0.8350\n",
            "Epoch 13/30\n",
            "225/225 [==============================] - 0s 1ms/step - loss: 0.4089 - accuracy: 0.8272 - val_loss: 0.4144 - val_accuracy: 0.8363\n",
            "Epoch 14/30\n",
            "225/225 [==============================] - 0s 2ms/step - loss: 0.4072 - accuracy: 0.8276 - val_loss: 0.4141 - val_accuracy: 0.8375\n",
            "Epoch 15/30\n",
            "225/225 [==============================] - 0s 1ms/step - loss: 0.4118 - accuracy: 0.8281 - val_loss: 0.4129 - val_accuracy: 0.8388\n",
            "Epoch 16/30\n",
            "225/225 [==============================] - 0s 1ms/step - loss: 0.3965 - accuracy: 0.8386 - val_loss: 0.4122 - val_accuracy: 0.8350\n",
            "Epoch 17/30\n",
            "225/225 [==============================] - 0s 2ms/step - loss: 0.3987 - accuracy: 0.8353 - val_loss: 0.4120 - val_accuracy: 0.8375\n",
            "Epoch 18/30\n",
            "225/225 [==============================] - 0s 2ms/step - loss: 0.3973 - accuracy: 0.8360 - val_loss: 0.4110 - val_accuracy: 0.8388\n",
            "Epoch 19/30\n",
            "225/225 [==============================] - 0s 1ms/step - loss: 0.3951 - accuracy: 0.8361 - val_loss: 0.4104 - val_accuracy: 0.8388\n",
            "Epoch 20/30\n",
            "225/225 [==============================] - 0s 1ms/step - loss: 0.4076 - accuracy: 0.8271 - val_loss: 0.4113 - val_accuracy: 0.8363\n",
            "Epoch 21/30\n",
            "225/225 [==============================] - 0s 1ms/step - loss: 0.3968 - accuracy: 0.8359 - val_loss: 0.4099 - val_accuracy: 0.8363\n",
            "Epoch 22/30\n",
            "225/225 [==============================] - 0s 2ms/step - loss: 0.3926 - accuracy: 0.8372 - val_loss: 0.4085 - val_accuracy: 0.8400\n",
            "Epoch 23/30\n",
            "225/225 [==============================] - 0s 2ms/step - loss: 0.3921 - accuracy: 0.8385 - val_loss: 0.4096 - val_accuracy: 0.8400\n",
            "Epoch 24/30\n",
            "225/225 [==============================] - 0s 2ms/step - loss: 0.3842 - accuracy: 0.8417 - val_loss: 0.4094 - val_accuracy: 0.8375\n",
            "Epoch 25/30\n",
            "225/225 [==============================] - 0s 1ms/step - loss: 0.3875 - accuracy: 0.8408 - val_loss: 0.4099 - val_accuracy: 0.8388\n",
            "Epoch 26/30\n",
            "225/225 [==============================] - 0s 1ms/step - loss: 0.3987 - accuracy: 0.8346 - val_loss: 0.4089 - val_accuracy: 0.8388\n",
            "Epoch 27/30\n",
            "225/225 [==============================] - 0s 2ms/step - loss: 0.3923 - accuracy: 0.8364 - val_loss: 0.4087 - val_accuracy: 0.8375\n",
            "Epoch 28/30\n",
            "225/225 [==============================] - 0s 2ms/step - loss: 0.3901 - accuracy: 0.8364 - val_loss: 0.4077 - val_accuracy: 0.8375\n",
            "Epoch 29/30\n",
            "225/225 [==============================] - 0s 1ms/step - loss: 0.3913 - accuracy: 0.8407 - val_loss: 0.4084 - val_accuracy: 0.8375\n",
            "Epoch 30/30\n",
            "225/225 [==============================] - 0s 1ms/step - loss: 0.3920 - accuracy: 0.8406 - val_loss: 0.4089 - val_accuracy: 0.8350\n"
          ],
          "name": "stdout"
        }
      ]
    },
    {
      "cell_type": "markdown",
      "metadata": {
        "id": "HsqOF4cpvpYu"
      },
      "source": [
        "# Part 3 - Making the predictions and evaluating the model"
      ]
    },
    {
      "cell_type": "markdown",
      "metadata": {
        "id": "P3FnBWDsvpYu"
      },
      "source": [
        "# P8.3.1 Predict the Test set results"
      ]
    },
    {
      "cell_type": "code",
      "metadata": {
        "colab": {
          "base_uri": "https://localhost:8080/"
        },
        "id": "vGrAoutIvpYu",
        "outputId": "b9b3c112-12ad-4a7a-ca05-32a8b16de17c"
      },
      "source": [
        "# hint: just consider y_pred > 0.5  (y_pred = (y_pred > 0.5))\n",
        "classifier.evaluate(X_test, y_test)\n",
        "y_pred = classifier.predict_classes(X_test)\n",
        "y_pred"
      ],
      "execution_count": null,
      "outputs": [
        {
          "output_type": "stream",
          "text": [
            "63/63 [==============================] - 0s 1ms/step - loss: 0.4002 - accuracy: 0.8395\n"
          ],
          "name": "stdout"
        },
        {
          "output_type": "stream",
          "text": [
            "/usr/local/lib/python3.7/dist-packages/tensorflow/python/keras/engine/sequential.py:450: UserWarning: `model.predict_classes()` is deprecated and will be removed after 2021-01-01. Please use instead:* `np.argmax(model.predict(x), axis=-1)`,   if your model does multi-class classification   (e.g. if it uses a `softmax` last-layer activation).* `(model.predict(x) > 0.5).astype(\"int32\")`,   if your model does binary classification   (e.g. if it uses a `sigmoid` last-layer activation).\n",
            "  warnings.warn('`model.predict_classes()` is deprecated and '\n"
          ],
          "name": "stderr"
        },
        {
          "output_type": "execute_result",
          "data": {
            "text/plain": [
              "array([[1],\n",
              "       [0],\n",
              "       [0],\n",
              "       ...,\n",
              "       [0],\n",
              "       [0],\n",
              "       [0]], dtype=int32)"
            ]
          },
          "metadata": {
            "tags": []
          },
          "execution_count": 109
        }
      ]
    },
    {
      "cell_type": "markdown",
      "metadata": {
        "id": "r-EAN8E2vpYu"
      },
      "source": [
        "# P8.3.2 Make the Confusion Matrix and show the reult"
      ]
    },
    {
      "cell_type": "code",
      "metadata": {
        "colab": {
          "base_uri": "https://localhost:8080/"
        },
        "id": "M_KEm0rzvpYv",
        "outputId": "bcfcea1e-bffe-4555-a65d-b8e0b70dd1ed"
      },
      "source": [
        "from sklearn.metrics import confusion_matrix\n",
        "ANN_confusion = confusion_matrix(y_test, y_pred)\n",
        "ANN_confusion"
      ],
      "execution_count": null,
      "outputs": [
        {
          "output_type": "execute_result",
          "data": {
            "text/plain": [
              "array([[1555,   45],\n",
              "       [ 276,  124]])"
            ]
          },
          "metadata": {
            "tags": []
          },
          "execution_count": 110
        }
      ]
    }
  ]
}